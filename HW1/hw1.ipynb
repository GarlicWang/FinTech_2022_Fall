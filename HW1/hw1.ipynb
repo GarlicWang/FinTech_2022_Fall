{
  "cells": [
    {
      "cell_type": "code",
      "execution_count": null,
      "metadata": {
        "id": "xZhHRkRbaiGq"
      },
      "outputs": [],
      "source": [
        "import os\n",
        "import torch\n",
        "import pandas as pd\n",
        "import numpy as np\n",
        "from tqdm import tqdm\n",
        "import torch.nn as nn\n",
        "from torch.utils.data import Dataset, DataLoader, random_split\n",
        "from sklearn.svm import SVC\n",
        "from sklearn.linear_model import LogisticRegression\n",
        "from sklearn.ensemble import RandomForestClassifier\n",
        "from sklearn.metrics import *\n",
        "import seaborn as sns\n",
        "import matplotlib.pyplot as plt"
      ]
    },
    {
      "cell_type": "code",
      "source": [
        "from google.colab import drive\n",
        "drive.mount('/content/drive')"
      ],
      "metadata": {
        "colab": {
          "base_uri": "https://localhost:8080/"
        },
        "id": "KkrGQu2vakKW",
        "outputId": "f7742a36-d90e-4bfa-deeb-7dd45a437d6d"
      },
      "execution_count": null,
      "outputs": [
        {
          "output_type": "stream",
          "name": "stdout",
          "text": [
            "Mounted at /content/drive\n"
          ]
        }
      ]
    },
    {
      "cell_type": "code",
      "source": [
        "# please set the data path first\n",
        "data_path = \"/content/drive/MyDrive/FinTech_Data/HW1/creditcard_sample.csv\"\n",
        "data_df = pd.read_csv(data_path)\n",
        "data_df"
      ],
      "metadata": {
        "colab": {
          "base_uri": "https://localhost:8080/",
          "height": 488
        },
        "id": "eZdNS-TVbtnv",
        "outputId": "4a8aa2d0-9df9-4bc6-c3a6-c7ac6bde8db0"
      },
      "execution_count": null,
      "outputs": [
        {
          "output_type": "execute_result",
          "data": {
            "text/plain": [
              "        Time        V1        V2        V3        V4        V5        V6  \\\n",
              "0          0 -1.359807 -0.072781  2.536347  1.378155 -0.338321  0.462388   \n",
              "1          0  1.191857  0.266151  0.166480  0.448154  0.060018 -0.082361   \n",
              "2          1 -1.358354 -1.340163  1.773209  0.379780 -0.503198  1.800499   \n",
              "3          1 -0.966272 -0.185226  1.792993 -0.863291 -0.010309  1.247203   \n",
              "4          2 -1.158233  0.877737  1.548718  0.403034 -0.407193  0.095921   \n",
              "...      ...       ...       ...       ...       ...       ...       ...   \n",
              "99994  67374 -0.228866  0.086431  0.791165 -1.451021  1.141154  0.070110   \n",
              "99995  67374 -1.336121  1.671947  0.994155  0.420318 -0.440923 -0.008386   \n",
              "99996  67374  0.662465 -1.336560  0.791566  0.425701 -1.391976  0.145471   \n",
              "99997  67374 -4.930001 -1.090715  0.298037  1.890524 -1.058087 -0.329315   \n",
              "99998  67374  0.982019 -0.161026  0.534280  0.714558  0.108865  1.154723   \n",
              "\n",
              "             V7        V8        V9  ...       V21       V22       V23  \\\n",
              "0      0.239599  0.098698  0.363787  ... -0.018307  0.277838 -0.110474   \n",
              "1     -0.078803  0.085102 -0.255425  ... -0.225775 -0.638672  0.101288   \n",
              "2      0.791461  0.247676 -1.514654  ...  0.247998  0.771679  0.909412   \n",
              "3      0.237609  0.377436 -1.387024  ... -0.108300  0.005274 -0.190321   \n",
              "4      0.592941 -0.270533  0.817739  ... -0.009431  0.798278 -0.137458   \n",
              "...         ...       ...       ...  ...       ...       ...       ...   \n",
              "99994  0.442420 -0.128557  0.305720  ...  0.162295  0.732803 -0.380588   \n",
              "99995 -0.893860 -2.051884 -1.091297  ... -1.135695  0.509302  0.074188   \n",
              "99996 -0.476652  0.203164  1.379204  ... -0.063744 -0.548785 -0.103769   \n",
              "99997 -1.498278  1.750301 -0.325311  ...  0.051768  0.166222 -0.585006   \n",
              "99998 -0.298831  0.417264  0.368293  ... -0.074225  0.088060  0.158234   \n",
              "\n",
              "            V24       V25       V26       V27       V28  Amount  Class  \n",
              "0      0.066928  0.128539 -0.189115  0.133558 -0.021053  149.62      0  \n",
              "1     -0.339846  0.167170  0.125895 -0.008983  0.014724    2.69      0  \n",
              "2     -0.689281 -0.327642 -0.139097 -0.055353 -0.059752  378.66      0  \n",
              "3     -1.175575  0.647376 -0.221929  0.062723  0.061458  123.50      0  \n",
              "4      0.141267 -0.206010  0.502292  0.219422  0.215153   69.99      0  \n",
              "...         ...       ...       ...       ...       ...     ...    ...  \n",
              "99994 -1.086826  0.376692 -0.481770 -0.077937 -0.220115    9.06      0  \n",
              "99995  0.266186 -0.117614 -0.515392 -0.049653  0.085873    2.50      0  \n",
              "99996  0.136687 -0.078936  0.948579 -0.075607  0.053555  269.83      0  \n",
              "99997  0.219239  0.181934 -0.253197  0.113801 -1.043315   45.00      0  \n",
              "99998 -0.580906  0.100103  0.373722  0.047812  0.005941   27.88      0  \n",
              "\n",
              "[99999 rows x 31 columns]"
            ],
            "text/html": [
              "\n",
              "  <div id=\"df-d3cf153b-9d65-415e-b5c7-62cc8448e5cb\">\n",
              "    <div class=\"colab-df-container\">\n",
              "      <div>\n",
              "<style scoped>\n",
              "    .dataframe tbody tr th:only-of-type {\n",
              "        vertical-align: middle;\n",
              "    }\n",
              "\n",
              "    .dataframe tbody tr th {\n",
              "        vertical-align: top;\n",
              "    }\n",
              "\n",
              "    .dataframe thead th {\n",
              "        text-align: right;\n",
              "    }\n",
              "</style>\n",
              "<table border=\"1\" class=\"dataframe\">\n",
              "  <thead>\n",
              "    <tr style=\"text-align: right;\">\n",
              "      <th></th>\n",
              "      <th>Time</th>\n",
              "      <th>V1</th>\n",
              "      <th>V2</th>\n",
              "      <th>V3</th>\n",
              "      <th>V4</th>\n",
              "      <th>V5</th>\n",
              "      <th>V6</th>\n",
              "      <th>V7</th>\n",
              "      <th>V8</th>\n",
              "      <th>V9</th>\n",
              "      <th>...</th>\n",
              "      <th>V21</th>\n",
              "      <th>V22</th>\n",
              "      <th>V23</th>\n",
              "      <th>V24</th>\n",
              "      <th>V25</th>\n",
              "      <th>V26</th>\n",
              "      <th>V27</th>\n",
              "      <th>V28</th>\n",
              "      <th>Amount</th>\n",
              "      <th>Class</th>\n",
              "    </tr>\n",
              "  </thead>\n",
              "  <tbody>\n",
              "    <tr>\n",
              "      <th>0</th>\n",
              "      <td>0</td>\n",
              "      <td>-1.359807</td>\n",
              "      <td>-0.072781</td>\n",
              "      <td>2.536347</td>\n",
              "      <td>1.378155</td>\n",
              "      <td>-0.338321</td>\n",
              "      <td>0.462388</td>\n",
              "      <td>0.239599</td>\n",
              "      <td>0.098698</td>\n",
              "      <td>0.363787</td>\n",
              "      <td>...</td>\n",
              "      <td>-0.018307</td>\n",
              "      <td>0.277838</td>\n",
              "      <td>-0.110474</td>\n",
              "      <td>0.066928</td>\n",
              "      <td>0.128539</td>\n",
              "      <td>-0.189115</td>\n",
              "      <td>0.133558</td>\n",
              "      <td>-0.021053</td>\n",
              "      <td>149.62</td>\n",
              "      <td>0</td>\n",
              "    </tr>\n",
              "    <tr>\n",
              "      <th>1</th>\n",
              "      <td>0</td>\n",
              "      <td>1.191857</td>\n",
              "      <td>0.266151</td>\n",
              "      <td>0.166480</td>\n",
              "      <td>0.448154</td>\n",
              "      <td>0.060018</td>\n",
              "      <td>-0.082361</td>\n",
              "      <td>-0.078803</td>\n",
              "      <td>0.085102</td>\n",
              "      <td>-0.255425</td>\n",
              "      <td>...</td>\n",
              "      <td>-0.225775</td>\n",
              "      <td>-0.638672</td>\n",
              "      <td>0.101288</td>\n",
              "      <td>-0.339846</td>\n",
              "      <td>0.167170</td>\n",
              "      <td>0.125895</td>\n",
              "      <td>-0.008983</td>\n",
              "      <td>0.014724</td>\n",
              "      <td>2.69</td>\n",
              "      <td>0</td>\n",
              "    </tr>\n",
              "    <tr>\n",
              "      <th>2</th>\n",
              "      <td>1</td>\n",
              "      <td>-1.358354</td>\n",
              "      <td>-1.340163</td>\n",
              "      <td>1.773209</td>\n",
              "      <td>0.379780</td>\n",
              "      <td>-0.503198</td>\n",
              "      <td>1.800499</td>\n",
              "      <td>0.791461</td>\n",
              "      <td>0.247676</td>\n",
              "      <td>-1.514654</td>\n",
              "      <td>...</td>\n",
              "      <td>0.247998</td>\n",
              "      <td>0.771679</td>\n",
              "      <td>0.909412</td>\n",
              "      <td>-0.689281</td>\n",
              "      <td>-0.327642</td>\n",
              "      <td>-0.139097</td>\n",
              "      <td>-0.055353</td>\n",
              "      <td>-0.059752</td>\n",
              "      <td>378.66</td>\n",
              "      <td>0</td>\n",
              "    </tr>\n",
              "    <tr>\n",
              "      <th>3</th>\n",
              "      <td>1</td>\n",
              "      <td>-0.966272</td>\n",
              "      <td>-0.185226</td>\n",
              "      <td>1.792993</td>\n",
              "      <td>-0.863291</td>\n",
              "      <td>-0.010309</td>\n",
              "      <td>1.247203</td>\n",
              "      <td>0.237609</td>\n",
              "      <td>0.377436</td>\n",
              "      <td>-1.387024</td>\n",
              "      <td>...</td>\n",
              "      <td>-0.108300</td>\n",
              "      <td>0.005274</td>\n",
              "      <td>-0.190321</td>\n",
              "      <td>-1.175575</td>\n",
              "      <td>0.647376</td>\n",
              "      <td>-0.221929</td>\n",
              "      <td>0.062723</td>\n",
              "      <td>0.061458</td>\n",
              "      <td>123.50</td>\n",
              "      <td>0</td>\n",
              "    </tr>\n",
              "    <tr>\n",
              "      <th>4</th>\n",
              "      <td>2</td>\n",
              "      <td>-1.158233</td>\n",
              "      <td>0.877737</td>\n",
              "      <td>1.548718</td>\n",
              "      <td>0.403034</td>\n",
              "      <td>-0.407193</td>\n",
              "      <td>0.095921</td>\n",
              "      <td>0.592941</td>\n",
              "      <td>-0.270533</td>\n",
              "      <td>0.817739</td>\n",
              "      <td>...</td>\n",
              "      <td>-0.009431</td>\n",
              "      <td>0.798278</td>\n",
              "      <td>-0.137458</td>\n",
              "      <td>0.141267</td>\n",
              "      <td>-0.206010</td>\n",
              "      <td>0.502292</td>\n",
              "      <td>0.219422</td>\n",
              "      <td>0.215153</td>\n",
              "      <td>69.99</td>\n",
              "      <td>0</td>\n",
              "    </tr>\n",
              "    <tr>\n",
              "      <th>...</th>\n",
              "      <td>...</td>\n",
              "      <td>...</td>\n",
              "      <td>...</td>\n",
              "      <td>...</td>\n",
              "      <td>...</td>\n",
              "      <td>...</td>\n",
              "      <td>...</td>\n",
              "      <td>...</td>\n",
              "      <td>...</td>\n",
              "      <td>...</td>\n",
              "      <td>...</td>\n",
              "      <td>...</td>\n",
              "      <td>...</td>\n",
              "      <td>...</td>\n",
              "      <td>...</td>\n",
              "      <td>...</td>\n",
              "      <td>...</td>\n",
              "      <td>...</td>\n",
              "      <td>...</td>\n",
              "      <td>...</td>\n",
              "      <td>...</td>\n",
              "    </tr>\n",
              "    <tr>\n",
              "      <th>99994</th>\n",
              "      <td>67374</td>\n",
              "      <td>-0.228866</td>\n",
              "      <td>0.086431</td>\n",
              "      <td>0.791165</td>\n",
              "      <td>-1.451021</td>\n",
              "      <td>1.141154</td>\n",
              "      <td>0.070110</td>\n",
              "      <td>0.442420</td>\n",
              "      <td>-0.128557</td>\n",
              "      <td>0.305720</td>\n",
              "      <td>...</td>\n",
              "      <td>0.162295</td>\n",
              "      <td>0.732803</td>\n",
              "      <td>-0.380588</td>\n",
              "      <td>-1.086826</td>\n",
              "      <td>0.376692</td>\n",
              "      <td>-0.481770</td>\n",
              "      <td>-0.077937</td>\n",
              "      <td>-0.220115</td>\n",
              "      <td>9.06</td>\n",
              "      <td>0</td>\n",
              "    </tr>\n",
              "    <tr>\n",
              "      <th>99995</th>\n",
              "      <td>67374</td>\n",
              "      <td>-1.336121</td>\n",
              "      <td>1.671947</td>\n",
              "      <td>0.994155</td>\n",
              "      <td>0.420318</td>\n",
              "      <td>-0.440923</td>\n",
              "      <td>-0.008386</td>\n",
              "      <td>-0.893860</td>\n",
              "      <td>-2.051884</td>\n",
              "      <td>-1.091297</td>\n",
              "      <td>...</td>\n",
              "      <td>-1.135695</td>\n",
              "      <td>0.509302</td>\n",
              "      <td>0.074188</td>\n",
              "      <td>0.266186</td>\n",
              "      <td>-0.117614</td>\n",
              "      <td>-0.515392</td>\n",
              "      <td>-0.049653</td>\n",
              "      <td>0.085873</td>\n",
              "      <td>2.50</td>\n",
              "      <td>0</td>\n",
              "    </tr>\n",
              "    <tr>\n",
              "      <th>99996</th>\n",
              "      <td>67374</td>\n",
              "      <td>0.662465</td>\n",
              "      <td>-1.336560</td>\n",
              "      <td>0.791566</td>\n",
              "      <td>0.425701</td>\n",
              "      <td>-1.391976</td>\n",
              "      <td>0.145471</td>\n",
              "      <td>-0.476652</td>\n",
              "      <td>0.203164</td>\n",
              "      <td>1.379204</td>\n",
              "      <td>...</td>\n",
              "      <td>-0.063744</td>\n",
              "      <td>-0.548785</td>\n",
              "      <td>-0.103769</td>\n",
              "      <td>0.136687</td>\n",
              "      <td>-0.078936</td>\n",
              "      <td>0.948579</td>\n",
              "      <td>-0.075607</td>\n",
              "      <td>0.053555</td>\n",
              "      <td>269.83</td>\n",
              "      <td>0</td>\n",
              "    </tr>\n",
              "    <tr>\n",
              "      <th>99997</th>\n",
              "      <td>67374</td>\n",
              "      <td>-4.930001</td>\n",
              "      <td>-1.090715</td>\n",
              "      <td>0.298037</td>\n",
              "      <td>1.890524</td>\n",
              "      <td>-1.058087</td>\n",
              "      <td>-0.329315</td>\n",
              "      <td>-1.498278</td>\n",
              "      <td>1.750301</td>\n",
              "      <td>-0.325311</td>\n",
              "      <td>...</td>\n",
              "      <td>0.051768</td>\n",
              "      <td>0.166222</td>\n",
              "      <td>-0.585006</td>\n",
              "      <td>0.219239</td>\n",
              "      <td>0.181934</td>\n",
              "      <td>-0.253197</td>\n",
              "      <td>0.113801</td>\n",
              "      <td>-1.043315</td>\n",
              "      <td>45.00</td>\n",
              "      <td>0</td>\n",
              "    </tr>\n",
              "    <tr>\n",
              "      <th>99998</th>\n",
              "      <td>67374</td>\n",
              "      <td>0.982019</td>\n",
              "      <td>-0.161026</td>\n",
              "      <td>0.534280</td>\n",
              "      <td>0.714558</td>\n",
              "      <td>0.108865</td>\n",
              "      <td>1.154723</td>\n",
              "      <td>-0.298831</td>\n",
              "      <td>0.417264</td>\n",
              "      <td>0.368293</td>\n",
              "      <td>...</td>\n",
              "      <td>-0.074225</td>\n",
              "      <td>0.088060</td>\n",
              "      <td>0.158234</td>\n",
              "      <td>-0.580906</td>\n",
              "      <td>0.100103</td>\n",
              "      <td>0.373722</td>\n",
              "      <td>0.047812</td>\n",
              "      <td>0.005941</td>\n",
              "      <td>27.88</td>\n",
              "      <td>0</td>\n",
              "    </tr>\n",
              "  </tbody>\n",
              "</table>\n",
              "<p>99999 rows × 31 columns</p>\n",
              "</div>\n",
              "      <button class=\"colab-df-convert\" onclick=\"convertToInteractive('df-d3cf153b-9d65-415e-b5c7-62cc8448e5cb')\"\n",
              "              title=\"Convert this dataframe to an interactive table.\"\n",
              "              style=\"display:none;\">\n",
              "        \n",
              "  <svg xmlns=\"http://www.w3.org/2000/svg\" height=\"24px\"viewBox=\"0 0 24 24\"\n",
              "       width=\"24px\">\n",
              "    <path d=\"M0 0h24v24H0V0z\" fill=\"none\"/>\n",
              "    <path d=\"M18.56 5.44l.94 2.06.94-2.06 2.06-.94-2.06-.94-.94-2.06-.94 2.06-2.06.94zm-11 1L8.5 8.5l.94-2.06 2.06-.94-2.06-.94L8.5 2.5l-.94 2.06-2.06.94zm10 10l.94 2.06.94-2.06 2.06-.94-2.06-.94-.94-2.06-.94 2.06-2.06.94z\"/><path d=\"M17.41 7.96l-1.37-1.37c-.4-.4-.92-.59-1.43-.59-.52 0-1.04.2-1.43.59L10.3 9.45l-7.72 7.72c-.78.78-.78 2.05 0 2.83L4 21.41c.39.39.9.59 1.41.59.51 0 1.02-.2 1.41-.59l7.78-7.78 2.81-2.81c.8-.78.8-2.07 0-2.86zM5.41 20L4 18.59l7.72-7.72 1.47 1.35L5.41 20z\"/>\n",
              "  </svg>\n",
              "      </button>\n",
              "      \n",
              "  <style>\n",
              "    .colab-df-container {\n",
              "      display:flex;\n",
              "      flex-wrap:wrap;\n",
              "      gap: 12px;\n",
              "    }\n",
              "\n",
              "    .colab-df-convert {\n",
              "      background-color: #E8F0FE;\n",
              "      border: none;\n",
              "      border-radius: 50%;\n",
              "      cursor: pointer;\n",
              "      display: none;\n",
              "      fill: #1967D2;\n",
              "      height: 32px;\n",
              "      padding: 0 0 0 0;\n",
              "      width: 32px;\n",
              "    }\n",
              "\n",
              "    .colab-df-convert:hover {\n",
              "      background-color: #E2EBFA;\n",
              "      box-shadow: 0px 1px 2px rgba(60, 64, 67, 0.3), 0px 1px 3px 1px rgba(60, 64, 67, 0.15);\n",
              "      fill: #174EA6;\n",
              "    }\n",
              "\n",
              "    [theme=dark] .colab-df-convert {\n",
              "      background-color: #3B4455;\n",
              "      fill: #D2E3FC;\n",
              "    }\n",
              "\n",
              "    [theme=dark] .colab-df-convert:hover {\n",
              "      background-color: #434B5C;\n",
              "      box-shadow: 0px 1px 3px 1px rgba(0, 0, 0, 0.15);\n",
              "      filter: drop-shadow(0px 1px 2px rgba(0, 0, 0, 0.3));\n",
              "      fill: #FFFFFF;\n",
              "    }\n",
              "  </style>\n",
              "\n",
              "      <script>\n",
              "        const buttonEl =\n",
              "          document.querySelector('#df-d3cf153b-9d65-415e-b5c7-62cc8448e5cb button.colab-df-convert');\n",
              "        buttonEl.style.display =\n",
              "          google.colab.kernel.accessAllowed ? 'block' : 'none';\n",
              "\n",
              "        async function convertToInteractive(key) {\n",
              "          const element = document.querySelector('#df-d3cf153b-9d65-415e-b5c7-62cc8448e5cb');\n",
              "          const dataTable =\n",
              "            await google.colab.kernel.invokeFunction('convertToInteractive',\n",
              "                                                     [key], {});\n",
              "          if (!dataTable) return;\n",
              "\n",
              "          const docLinkHtml = 'Like what you see? Visit the ' +\n",
              "            '<a target=\"_blank\" href=https://colab.research.google.com/notebooks/data_table.ipynb>data table notebook</a>'\n",
              "            + ' to learn more about interactive tables.';\n",
              "          element.innerHTML = '';\n",
              "          dataTable['output_type'] = 'display_data';\n",
              "          await google.colab.output.renderOutput(dataTable, element);\n",
              "          const docLink = document.createElement('div');\n",
              "          docLink.innerHTML = docLinkHtml;\n",
              "          element.appendChild(docLink);\n",
              "        }\n",
              "      </script>\n",
              "    </div>\n",
              "  </div>\n",
              "  "
            ]
          },
          "metadata": {},
          "execution_count": 3
        }
      ]
    },
    {
      "cell_type": "code",
      "source": [
        "def train_test_split(data_set, train_ratio, seed):\n",
        "    train_set_size = int(train_ratio * len(data_set))\n",
        "    test_set_size = len(data_set) - train_set_size\n",
        "    train_set, test_set = random_split(data_set, [train_set_size, test_set_size], generator=torch.Generator().manual_seed(seed))\n",
        "    return np.array(train_set), np.array(test_set)\n",
        "def train_valid_split(data_set, train_ratio, seed):\n",
        "    train_set_size = int(train_ratio * len(data_set))\n",
        "    valid_set_size = len(data_set) - train_set_size\n",
        "    train_set, valid_set = random_split(data_set, [train_set_size, valid_set_size], generator=torch.Generator().manual_seed(seed))\n",
        "    return np.array(train_set), np.array(valid_set)\n",
        "def split_label(data_array):\n",
        "    features = data_array[:, :-1]\n",
        "    labels = data_array[:, -1]\n",
        "    return features, labels"
      ],
      "metadata": {
        "id": "iEWprqUHfH6_"
      },
      "execution_count": null,
      "outputs": []
    },
    {
      "cell_type": "code",
      "source": [
        "device = 'cuda' if torch.cuda.is_available() else 'cpu'\n",
        "config = {\n",
        "    'seed' : 1234,\n",
        "    'train_ratio' : 0.8,\n",
        "}\n",
        "print(\"device : \", device)"
      ],
      "metadata": {
        "id": "wYH-TrS2hjjh",
        "colab": {
          "base_uri": "https://localhost:8080/"
        },
        "outputId": "6f450a2e-3cdc-470f-809e-b1ce3e01e604"
      },
      "execution_count": null,
      "outputs": [
        {
          "output_type": "stream",
          "name": "stdout",
          "text": [
            "device :  cpu\n"
          ]
        }
      ]
    },
    {
      "cell_type": "code",
      "source": [
        "# fix seed\n",
        "def same_seed(seed):\n",
        "    torch.manual_seed(seed)\n",
        "    if torch.cuda.is_available():\n",
        "        torch.cuda.manual_seed(seed)\n",
        "        torch.cuda.manual_seed_all(seed)  \n",
        "    np.random.seed(seed)  \n",
        "    torch.backends.cudnn.benchmark = False\n",
        "    torch.backends.cudnn.deterministic = True\n",
        "\n",
        "same_seed(config['seed'])"
      ],
      "metadata": {
        "id": "Dyvuef1Py5rh"
      },
      "execution_count": null,
      "outputs": []
    },
    {
      "cell_type": "code",
      "source": [
        "train_set, test_set = train_test_split(data_df.values, config['train_ratio'], config['seed'])\n",
        "train_x, train_y = split_label(train_set)\n",
        "test_x, test_y = split_label(test_set)\n",
        "print(train_y.sum(), test_y.sum())"
      ],
      "metadata": {
        "id": "xEoiLIVehYzw",
        "colab": {
          "base_uri": "https://localhost:8080/"
        },
        "outputId": "0f0e27a1-c22c-4659-bd15-98972eaab9dc"
      },
      "execution_count": null,
      "outputs": [
        {
          "output_type": "stream",
          "name": "stdout",
          "text": [
            "173.0 50.0\n"
          ]
        }
      ]
    },
    {
      "cell_type": "markdown",
      "source": [
        "\n",
        "### Plotting"
      ],
      "metadata": {
        "id": "wmheBpadW8bM"
      }
    },
    {
      "cell_type": "code",
      "source": [
        "def plot_confusion_matrix(test_y, test_pred_class, model_type):\n",
        "    print('\\n')\n",
        "    ax = sns.heatmap(confusion_matrix(test_y, test_pred_class), annot=True, cmap='Blues', fmt='d')\n",
        "\n",
        "    ax.set_title(f'{model_type} Confusion Matrix\\n\\n');\n",
        "    ax.set_xlabel('\\nPredicted Values')\n",
        "    ax.set_ylabel('Actual Values');\n",
        "\n",
        "    ax.xaxis.set_ticklabels(['0','1'])\n",
        "    ax.yaxis.set_ticklabels(['0','1'])\n",
        "\n",
        "    plt.show()"
      ],
      "metadata": {
        "id": "wrmWF2xZW-v7"
      },
      "execution_count": null,
      "outputs": []
    },
    {
      "cell_type": "code",
      "source": [
        "def plot_roc_curve(test_y, test_proba, model_type):\n",
        "    ROC = roc_curve(test_y, test_proba[:,1])\n",
        "    AUROC = auc(ROC[0], ROC[1])\n",
        "    display = RocCurveDisplay(fpr=ROC[0], tpr=ROC[1], roc_auc=AUROC, estimator_name=model_type)\n",
        "    display.plot()\n",
        "    plt.title(f\"ROC Curve of {model_type}\")\n",
        "    plt.show()"
      ],
      "metadata": {
        "id": "a24eNxRQ3D0I"
      },
      "execution_count": null,
      "outputs": []
    },
    {
      "cell_type": "code",
      "source": [
        "def plot_prc(test_y, test_proba, model_type):\n",
        "    PRC = precision_recall_curve(test_y, test_proba[:,1])\n",
        "    AUPRC = auc(PRC[1], PRC[0])    ## Warning : Need to invert the axis since X coordinates must be either monotonic increasing or monotonic decreasing. The auc will not change.\n",
        "    display = PrecisionRecallDisplay(precision=PRC[0], recall=PRC[1], estimator_name=f'{model_type} (AUC = {AUPRC:.2f})')\n",
        "    display.plot()\n",
        "    plt.title(f\"PR Curve of {model_type}\")\n",
        "    plt.show()"
      ],
      "metadata": {
        "id": "Cgy1gDrL3n3Z"
      },
      "execution_count": null,
      "outputs": []
    },
    {
      "cell_type": "markdown",
      "source": [
        "## Logisitic Regression"
      ],
      "metadata": {
        "id": "e6gSHW_Cdvui"
      }
    },
    {
      "cell_type": "markdown",
      "source": [
        "### Model"
      ],
      "metadata": {
        "id": "7D6vQSxJeQsR"
      }
    },
    {
      "cell_type": "code",
      "source": [
        "LR_Model = LogisticRegression(random_state=0)"
      ],
      "metadata": {
        "id": "tDrOyVT0BQQk"
      },
      "execution_count": null,
      "outputs": []
    },
    {
      "cell_type": "markdown",
      "source": [
        "### Training"
      ],
      "metadata": {
        "id": "faI5o43LnnFy"
      }
    },
    {
      "cell_type": "code",
      "source": [
        "LR_Model.fit(train_x, train_y)"
      ],
      "metadata": {
        "colab": {
          "base_uri": "https://localhost:8080/"
        },
        "id": "R8pD2BCIB-8_",
        "outputId": "ebfd4af3-b34c-4ed6-a97f-c93d94d3157f"
      },
      "execution_count": null,
      "outputs": [
        {
          "output_type": "stream",
          "name": "stderr",
          "text": [
            "/usr/local/lib/python3.7/dist-packages/sklearn/linear_model/_logistic.py:818: ConvergenceWarning: lbfgs failed to converge (status=1):\n",
            "STOP: TOTAL NO. of ITERATIONS REACHED LIMIT.\n",
            "\n",
            "Increase the number of iterations (max_iter) or scale the data as shown in:\n",
            "    https://scikit-learn.org/stable/modules/preprocessing.html\n",
            "Please also refer to the documentation for alternative solver options:\n",
            "    https://scikit-learn.org/stable/modules/linear_model.html#logistic-regression\n",
            "  extra_warning_msg=_LOGISTIC_SOLVER_CONVERGENCE_MSG,\n"
          ]
        },
        {
          "output_type": "execute_result",
          "data": {
            "text/plain": [
              "LogisticRegression(random_state=0)"
            ]
          },
          "metadata": {},
          "execution_count": 28
        }
      ]
    },
    {
      "cell_type": "markdown",
      "source": [
        "### Evaluation"
      ],
      "metadata": {
        "id": "FQr0U1sPda67"
      }
    },
    {
      "cell_type": "code",
      "source": [
        "LR_test_pred = LR_Model.predict(test_x)"
      ],
      "metadata": {
        "id": "qpMCyn8la9wx"
      },
      "execution_count": null,
      "outputs": []
    },
    {
      "cell_type": "code",
      "source": [
        "plot_confusion_matrix(test_y, LR_test_pred, \"LR\")"
      ],
      "metadata": {
        "colab": {
          "base_uri": "https://localhost:8080/",
          "height": 373
        },
        "id": "FwtTUXIYXO8k",
        "outputId": "9d380399-c19c-48d4-f219-067662abe922"
      },
      "execution_count": null,
      "outputs": [
        {
          "output_type": "stream",
          "name": "stdout",
          "text": [
            "\n",
            "\n"
          ]
        },
        {
          "output_type": "display_data",
          "data": {
            "text/plain": [
              "<Figure size 432x288 with 2 Axes>"
            ],
            "image/png": "[encoded data removed]"
          },
          "metadata": {
            "needs_background": "light"
          }
        }
      ]
    },
    {
      "cell_type": "code",
      "source": [
        "print(\"----------classification report of LR----------\")\n",
        "print(classification_report(test_y, LR_test_pred, labels=[0,1]))"
      ],
      "metadata": {
        "colab": {
          "base_uri": "https://localhost:8080/"
        },
        "id": "68A7Qp-taVN-",
        "outputId": "38cd4d58-cba9-4fe4-e827-79f6d5dad005"
      },
      "execution_count": null,
      "outputs": [
        {
          "output_type": "stream",
          "name": "stdout",
          "text": [
            "----------classification report of LR----------\n",
            "              precision    recall  f1-score   support\n",
            "\n",
            "           0       1.00      1.00      1.00     19950\n",
            "           1       0.74      0.58      0.65        50\n",
            "\n",
            "    accuracy                           1.00     20000\n",
            "   macro avg       0.87      0.79      0.83     20000\n",
            "weighted avg       1.00      1.00      1.00     20000\n",
            "\n"
          ]
        }
      ]
    },
    {
      "cell_type": "markdown",
      "source": [
        "### ROC and PRC"
      ],
      "metadata": {
        "id": "y7uX6Ktcj5XR"
      }
    },
    {
      "cell_type": "code",
      "source": [
        "LR_test_proba = LR_Model.predict_proba(test_x)"
      ],
      "metadata": {
        "id": "rEFiCLuQo6zQ"
      },
      "execution_count": null,
      "outputs": []
    },
    {
      "cell_type": "code",
      "source": [
        "plot_roc_curve(test_y, LR_test_proba, \"LR\")"
      ],
      "metadata": {
        "colab": {
          "base_uri": "https://localhost:8080/",
          "height": 295
        },
        "id": "87eeJAAC3-1R",
        "outputId": "d238f293-44cc-4fbc-b97b-be2fbe4c715a"
      },
      "execution_count": null,
      "outputs": [
        {
          "output_type": "display_data",
          "data": {
            "text/plain": [
              "<Figure size 432x288 with 1 Axes>"
            ],
            "image/png": "[encoded data removed]"
          },
          "metadata": {
            "needs_background": "light"
          }
        }
      ]
    },
    {
      "cell_type": "code",
      "source": [
        "plot_prc(test_y, LR_test_proba, \"LR\")"
      ],
      "metadata": {
        "colab": {
          "base_uri": "https://localhost:8080/",
          "height": 295
        },
        "id": "jC9tLRX54HG_",
        "outputId": "05ad39be-332b-4fa8-d0be-2eec798669dd"
      },
      "execution_count": null,
      "outputs": [
        {
          "output_type": "display_data",
          "data": {
            "text/plain": [
              "<Figure size 432x288 with 1 Axes>"
            ],
            "image/png": "[encoded data removed]"
          },
          "metadata": {
            "needs_background": "light"
          }
        }
      ]
    },
    {
      "cell_type": "markdown",
      "source": [
        "## Support Vector Machine"
      ],
      "metadata": {
        "id": "adz-cpppd0LH"
      }
    },
    {
      "cell_type": "markdown",
      "source": [
        "### Model"
      ],
      "metadata": {
        "id": "cidS9BwTeW6k"
      }
    },
    {
      "cell_type": "code",
      "source": [
        "SVM_Model = SVC(kernel='linear', probability=True)"
      ],
      "metadata": {
        "id": "QYgA59CXeYJG"
      },
      "execution_count": null,
      "outputs": []
    },
    {
      "cell_type": "markdown",
      "source": [
        "### Training"
      ],
      "metadata": {
        "id": "m7aIFfhsd-6Y"
      }
    },
    {
      "cell_type": "code",
      "source": [
        "SVM_Model.fit(train_x, train_y)"
      ],
      "metadata": {
        "id": "RafcvxmceJCe",
        "colab": {
          "base_uri": "https://localhost:8080/"
        },
        "outputId": "d32a478f-9f21-4b16-a48f-8c1b3bc24f26"
      },
      "execution_count": null,
      "outputs": [
        {
          "output_type": "execute_result",
          "data": {
            "text/plain": [
              "SVC(kernel='linear', probability=True)"
            ]
          },
          "metadata": {},
          "execution_count": 36
        }
      ]
    },
    {
      "cell_type": "markdown",
      "source": [
        "### Evaluation\n",
        "\n"
      ],
      "metadata": {
        "id": "HXOYimNJeAPy"
      }
    },
    {
      "cell_type": "code",
      "source": [
        "SVM_test_pred = SVM_Model.predict(test_x)"
      ],
      "metadata": {
        "id": "vhJRgfnRaiFf"
      },
      "execution_count": null,
      "outputs": []
    },
    {
      "cell_type": "code",
      "source": [
        "plot_confusion_matrix(test_y, SVM_test_pred, \"SVM\")"
      ],
      "metadata": {
        "colab": {
          "base_uri": "https://localhost:8080/",
          "height": 373
        },
        "id": "6OBDGt4gXcv3",
        "outputId": "978e283d-b2ab-4289-e667-caeda8f974c6"
      },
      "execution_count": null,
      "outputs": [
        {
          "output_type": "stream",
          "name": "stdout",
          "text": [
            "\n",
            "\n"
          ]
        },
        {
          "output_type": "display_data",
          "data": {
            "text/plain": [
              "<Figure size 432x288 with 2 Axes>"
            ],
            "image/png": "[encoded data removed]"
          },
          "metadata": {
            "needs_background": "light"
          }
        }
      ]
    },
    {
      "cell_type": "code",
      "source": [
        "print(\"----------classification report of SVM----------\")\n",
        "print(classification_report(test_y, SVM_test_pred, labels=[0,1]))"
      ],
      "metadata": {
        "colab": {
          "base_uri": "https://localhost:8080/"
        },
        "id": "WxfsnSGRblCg",
        "outputId": "7ff1c9b2-69de-4772-f573-ea4fdecffb95"
      },
      "execution_count": null,
      "outputs": [
        {
          "output_type": "stream",
          "name": "stdout",
          "text": [
            "----------classification report of SVM----------\n",
            "              precision    recall  f1-score   support\n",
            "\n",
            "           0       1.00      1.00      1.00     19950\n",
            "           1       0.83      0.58      0.68        50\n",
            "\n",
            "    accuracy                           1.00     20000\n",
            "   macro avg       0.91      0.79      0.84     20000\n",
            "weighted avg       1.00      1.00      1.00     20000\n",
            "\n"
          ]
        }
      ]
    },
    {
      "cell_type": "markdown",
      "source": [
        "### ROC and PRC"
      ],
      "metadata": {
        "id": "ziP5XD3nreK8"
      }
    },
    {
      "cell_type": "code",
      "source": [
        "SVM_test_proba = SVM_Model.predict_proba(test_x)"
      ],
      "metadata": {
        "id": "eCK4Kl8sreLC"
      },
      "execution_count": null,
      "outputs": []
    },
    {
      "cell_type": "code",
      "source": [
        "plot_roc_curve(test_y, SVM_test_proba, \"SVM\")"
      ],
      "metadata": {
        "colab": {
          "base_uri": "https://localhost:8080/",
          "height": 295
        },
        "outputId": "acf7c32b-646c-4887-ec21-10760d8103cb",
        "id": "C5HSI-2r4QUm"
      },
      "execution_count": null,
      "outputs": [
        {
          "output_type": "display_data",
          "data": {
            "text/plain": [
              "<Figure size 432x288 with 1 Axes>"
            ],
            "image/png": "[encoded data removed]"
          },
          "metadata": {
            "needs_background": "light"
          }
        }
      ]
    },
    {
      "cell_type": "code",
      "source": [
        "plot_prc(test_y, SVM_test_proba, \"SVM\")"
      ],
      "metadata": {
        "colab": {
          "base_uri": "https://localhost:8080/",
          "height": 295
        },
        "outputId": "0887d91a-6d27-4818-927e-1d11b0c2339d",
        "id": "RIH8Ol624QUn"
      },
      "execution_count": null,
      "outputs": [
        {
          "output_type": "display_data",
          "data": {
            "text/plain": [
              "<Figure size 432x288 with 1 Axes>"
            ],
            "image/png": "[encoded data removed]"
          },
          "metadata": {
            "needs_background": "light"
          }
        }
      ]
    },
    {
      "cell_type": "markdown",
      "source": [
        "## Random Forest"
      ],
      "metadata": {
        "id": "WXP_vKKOd4vM"
      }
    },
    {
      "cell_type": "markdown",
      "source": [
        "### Model"
      ],
      "metadata": {
        "id": "b48iXEX7eY1e"
      }
    },
    {
      "cell_type": "code",
      "source": [
        "RF_Model = RandomForestClassifier(max_depth=5, random_state=0)"
      ],
      "metadata": {
        "id": "tdF_zRn5eZ4k"
      },
      "execution_count": null,
      "outputs": []
    },
    {
      "cell_type": "markdown",
      "source": [
        "### Training"
      ],
      "metadata": {
        "id": "fx2v40R1eF_-"
      }
    },
    {
      "cell_type": "code",
      "source": [
        "RF_Model.fit(train_x, train_y)"
      ],
      "metadata": {
        "colab": {
          "base_uri": "https://localhost:8080/"
        },
        "id": "Pbr0-FPKeJz2",
        "outputId": "e8de53d5-03fc-4f41-d503-8108a633655c"
      },
      "execution_count": null,
      "outputs": [
        {
          "output_type": "execute_result",
          "data": {
            "text/plain": [
              "RandomForestClassifier(max_depth=5, random_state=0)"
            ]
          },
          "metadata": {},
          "execution_count": 44
        }
      ]
    },
    {
      "cell_type": "markdown",
      "source": [
        "### Evaluation"
      ],
      "metadata": {
        "id": "n8JUoyMSeF__"
      }
    },
    {
      "cell_type": "code",
      "source": [
        "RF_test_pred = RF_Model.predict(test_x)"
      ],
      "metadata": {
        "id": "-FW8nJhRbETF"
      },
      "execution_count": null,
      "outputs": []
    },
    {
      "cell_type": "code",
      "source": [
        "plot_confusion_matrix(test_y, RF_test_pred, \"RF\")"
      ],
      "metadata": {
        "colab": {
          "base_uri": "https://localhost:8080/",
          "height": 373
        },
        "id": "aXgDl0z1YIy8",
        "outputId": "dd43613d-bf59-43bd-d441-9f0004c086a0"
      },
      "execution_count": null,
      "outputs": [
        {
          "output_type": "stream",
          "name": "stdout",
          "text": [
            "\n",
            "\n"
          ]
        },
        {
          "output_type": "display_data",
          "data": {
            "text/plain": [
              "<Figure size 432x288 with 2 Axes>"
            ],
            "image/png": "[encoded data removed]"
          },
          "metadata": {
            "needs_background": "light"
          }
        }
      ]
    },
    {
      "cell_type": "code",
      "source": [
        "print(\"----------classification report of RF----------\")\n",
        "print(classification_report(test_y, RF_test_pred, labels=[0,1]))"
      ],
      "metadata": {
        "colab": {
          "base_uri": "https://localhost:8080/"
        },
        "id": "CS8KmOUrbmBb",
        "outputId": "03382229-10b7-4f3a-e06c-f049deee857a"
      },
      "execution_count": null,
      "outputs": [
        {
          "output_type": "stream",
          "name": "stdout",
          "text": [
            "----------classification report of RF----------\n",
            "              precision    recall  f1-score   support\n",
            "\n",
            "           0       1.00      1.00      1.00     19950\n",
            "           1       1.00      0.90      0.95        50\n",
            "\n",
            "    accuracy                           1.00     20000\n",
            "   macro avg       1.00      0.95      0.97     20000\n",
            "weighted avg       1.00      1.00      1.00     20000\n",
            "\n"
          ]
        }
      ]
    },
    {
      "cell_type": "markdown",
      "source": [
        "### ROC and PRC"
      ],
      "metadata": {
        "id": "yM5EHrlUrfRo"
      }
    },
    {
      "cell_type": "code",
      "source": [
        "RF_test_proba = RF_Model.predict_proba(test_x)"
      ],
      "metadata": {
        "id": "ShPY6E3jrfRo"
      },
      "execution_count": null,
      "outputs": []
    },
    {
      "cell_type": "code",
      "source": [
        "plot_roc_curve(test_y, RF_test_proba, \"RF\")"
      ],
      "metadata": {
        "colab": {
          "base_uri": "https://localhost:8080/",
          "height": 295
        },
        "outputId": "ac1bb15a-210c-459f-ee18-d56091193b6a",
        "id": "WRhvODmh4ZKr"
      },
      "execution_count": null,
      "outputs": [
        {
          "output_type": "display_data",
          "data": {
            "text/plain": [
              "<Figure size 432x288 with 1 Axes>"
            ],
            "image/png": "[encoded data removed]"
          },
          "metadata": {
            "needs_background": "light"
          }
        }
      ]
    },
    {
      "cell_type": "code",
      "source": [
        "plot_prc(test_y, RF_test_proba, \"RF\")"
      ],
      "metadata": {
        "colab": {
          "base_uri": "https://localhost:8080/",
          "height": 295
        },
        "outputId": "5a727037-369f-44dd-9565-27d42e357b69",
        "id": "uX8GOvf64ZKs"
      },
      "execution_count": null,
      "outputs": [
        {
          "output_type": "display_data",
          "data": {
            "text/plain": [
              "<Figure size 432x288 with 1 Axes>"
            ],
            "image/png": "[encoded data removed]"
          },
          "metadata": {
            "needs_background": "light"
          }
        }
      ]
    },
    {
      "cell_type": "markdown",
      "source": [
        "## Deep Neural Network"
      ],
      "metadata": {
        "id": "5wNeFOGViH--"
      }
    },
    {
      "cell_type": "markdown",
      "source": [
        "grid search：  \n",
        "I try these parameters and get the best performance from the config showing below. \n",
        "1. number of hidden layers : 1, 2, 3\n",
        "2. number of hidden units : 32, 64, 128\n",
        "3. learning rate : 0.003, 0.005, 0.007\n",
        "4. number of iterations : 200\n",
        "5. mini-batch size : 256,512,1024\n",
        "\n"
      ],
      "metadata": {
        "id": "hMrcSIFUBHb2"
      }
    },
    {
      "cell_type": "markdown",
      "source": [
        "### config"
      ],
      "metadata": {
        "id": "FColcQSBybL-"
      }
    },
    {
      "cell_type": "code",
      "source": [
        "config['n_epoch'] = 200\n",
        "config[\"early_stop\"] = 60"
      ],
      "metadata": {
        "id": "Ldx5xQ6x4Bqh"
      },
      "execution_count": null,
      "outputs": []
    },
    {
      "cell_type": "markdown",
      "source": [
        "### Split train and valid"
      ],
      "metadata": {
        "id": "9057WME8_u6I"
      }
    },
    {
      "cell_type": "code",
      "source": [
        "DNN_train_set, DNN_valid_set = train_valid_split(train_set, 0.9, config['seed'])\n",
        "DNN_train_x, DNN_train_y = split_label(DNN_train_set)\n",
        "DNN_valid_x, DNN_valid_y = split_label(DNN_valid_set)\n",
        "train_y.sum(), DNN_train_y.sum(), DNN_valid_y.sum()"
      ],
      "metadata": {
        "colab": {
          "base_uri": "https://localhost:8080/"
        },
        "id": "Ipv5PYkk_yor",
        "outputId": "d9e13acf-b1c9-4e11-d18a-2635facbeeb0"
      },
      "execution_count": null,
      "outputs": [
        {
          "output_type": "execute_result",
          "data": {
            "text/plain": [
              "(173.0, 157.0, 16.0)"
            ]
          },
          "metadata": {},
          "execution_count": 12
        }
      ]
    },
    {
      "cell_type": "markdown",
      "source": [
        "### Dataset"
      ],
      "metadata": {
        "id": "F1dDZLRZniQL"
      }
    },
    {
      "cell_type": "code",
      "source": [
        "class Fraud_Dataset(Dataset):\n",
        "    def __init__(self, x, y=None):\n",
        "        if y is None:\n",
        "            self.y = y\n",
        "        else:\n",
        "            self.y = torch.Tensor(y)\n",
        "            self.y_two_class = torch.Tensor([[0,1] if y==1 else [1,0] for y in y])\n",
        "        self.x = torch.FloatTensor(x)\n",
        "    def __getitem__(self, idx):\n",
        "        if self.y is None:\n",
        "            return self.x[idx]\n",
        "        else:\n",
        "            return self.x[idx], self.y[idx], self.y_two_class[idx]\n",
        "    def __len__(self):\n",
        "        return len(self.x)"
      ],
      "metadata": {
        "id": "Ac8GGM4cijtf"
      },
      "execution_count": null,
      "outputs": []
    },
    {
      "cell_type": "code",
      "source": [
        "train_dataset = Fraud_Dataset(DNN_train_x, DNN_train_y)\n",
        "valid_dataset = Fraud_Dataset(DNN_valid_x, DNN_valid_y)\n",
        "test_dataset = Fraud_Dataset(test_x, test_y)"
      ],
      "metadata": {
        "id": "GBs4TlfsnmKm"
      },
      "execution_count": null,
      "outputs": []
    },
    {
      "cell_type": "markdown",
      "source": [
        "### Model"
      ],
      "metadata": {
        "id": "H7OmguyNiKCA"
      }
    },
    {
      "cell_type": "code",
      "source": [
        "class BasicBlock(nn.Module):\n",
        "    def __init__(self, input_dim, output_dim):\n",
        "        super(BasicBlock, self).__init__()\n",
        "\n",
        "        self.block = nn.Sequential(\n",
        "            nn.Linear(input_dim, output_dim),\n",
        "            nn.BatchNorm1d(output_dim),\n",
        "            nn.ReLU(),\n",
        "            nn.Dropout(0.25)\n",
        "        )\n",
        "\n",
        "    def forward(self, x):\n",
        "        x = self.block(x)\n",
        "        return x\n",
        "\n",
        "\n",
        "class DNN_Model(nn.Module):\n",
        "    def __init__(self, hidden_layers=1, hidden_dim=64):\n",
        "        super(DNN_Model, self).__init__()\n",
        "        self.layers = nn.Sequential(\n",
        "            BasicBlock(30, hidden_dim),\n",
        "            *[BasicBlock(hidden_dim, hidden_dim) for _ in range(hidden_layers)],\n",
        "            nn.Linear(hidden_dim,2)\n",
        "        )\n",
        "        self.out_layer = nn.Sigmoid()\n",
        "\n",
        "    def forward(self, x):\n",
        "        y = self.layers(x)\n",
        "        y = self.out_layer(y)\n",
        "        return y"
      ],
      "metadata": {
        "id": "98MRuWP-iJhe"
      },
      "execution_count": null,
      "outputs": []
    },
    {
      "cell_type": "markdown",
      "source": [
        "### Training with Grid Search"
      ],
      "metadata": {
        "id": "pUIpKa4TRDWe"
      }
    },
    {
      "cell_type": "code",
      "execution_count": null,
      "metadata": {
        "id": "0xBMViYkXdR8"
      },
      "outputs": [],
      "source": [
        "if not os.path.isdir('./models'):\n",
        "    os.mkdir('./models')\n",
        "\n",
        "model_path = \"./models/dnn_model.ckpt\"\n",
        "\n",
        "def trainer(config):\n",
        "    dnn_model = DNN_Model(hidden_layers=config['hidden_layers'], hidden_dim=config['hidden_dim']).to(device)\n",
        "    criterion = nn.BCELoss()\n",
        "    optimizer = torch.optim.Adam(dnn_model.parameters(), lr=config['lr'])\n",
        "\n",
        "\n",
        "    # train\n",
        "    dnn_model.train()\n",
        "    train_loss_list, train_acc_list = [], []\n",
        "    valid_loss_list, valid_acc_list = [], []\n",
        "    n_epoch = config['n_epoch']\n",
        "    best_acc, early_stop_count = 0, 0\n",
        "    for epoch in range(n_epoch):\n",
        "        train_loss, train_acc = 0, 0\n",
        "        valid_loss, valid_acc = 0, 0\n",
        "\n",
        "        for x, y, y_two_class in train_loader:\n",
        "            optimizer.zero_grad()\n",
        "            x, y_two_class = x.to(device), y_two_class.to(device)\n",
        "            outputs = dnn_model(x)\n",
        "            loss = criterion(outputs, y_two_class)\n",
        "            loss.backward()\n",
        "            optimizer.step()\n",
        "\n",
        "            _, train_pred = torch.max(outputs, 1)\n",
        "            train_loss += loss.detach().item()\n",
        "            train_acc += (train_pred.cpu().detach() == y).sum().item()\n",
        "        train_loss = train_loss/len(train_loader)\n",
        "        train_acc = train_acc/len(train_dataset)\n",
        "\n",
        "        # eval\n",
        "        with torch.no_grad():\n",
        "            for x, y, y_two_class in valid_loader:\n",
        "                x, y_two_class = x.to(device), y_two_class.to(device)\n",
        "                outputs = dnn_model(x)\n",
        "                loss = criterion(outputs, y_two_class)\n",
        "\n",
        "                _, valid_pred = torch.max(outputs, 1)\n",
        "                valid_loss += loss.detach().item()\n",
        "                valid_acc += (valid_pred.cpu().detach() == y).sum().item()\n",
        "            valid_loss = valid_loss/len(valid_loader)\n",
        "            valid_acc = valid_acc/len(valid_dataset)\n",
        "\n",
        "            if valid_acc > best_acc:\n",
        "                best_acc = valid_acc\n",
        "                early_stop_count = 0\n",
        "                torch.save(dnn_model.state_dict(), model_path)\n",
        "            else:\n",
        "                early_stop_count += 1\n",
        "\n",
        "            if early_stop_count >= config['early_stop']:\n",
        "                break\n",
        "\n",
        "    return best_acc"
      ]
    },
    {
      "cell_type": "code",
      "source": [
        "best_valid_acc = 0\n",
        "best_model_path = \"./models/best_dnn_model.ckpt\"\n",
        "for batch_size in [128,256]:\n",
        "    config['batch_size'] = batch_size\n",
        "    train_loader = DataLoader(train_dataset, batch_size=config['batch_size'], shuffle=True, pin_memory=True)\n",
        "    valid_loader = DataLoader(valid_dataset, batch_size=config['batch_size'], shuffle=True, pin_memory=True)\n",
        "    test_loader = DataLoader(test_dataset, batch_size=config['batch_size'], shuffle=False, pin_memory=True)\n",
        "    for hidden_layers in [1,2,3]:\n",
        "        config['hidden_layers'] = hidden_layers\n",
        "        for hidden_dim in [32,64,128]:\n",
        "            config['hidden_dim'] = hidden_dim\n",
        "            for lr in [0.003,0.005,0.007]:\n",
        "                config['lr'] = lr\n",
        "                # print(f\"config : batch_size = {batch_size}, hidden_layers = {hidden_layers}, hidden_dim = {hidden_dim}, lr = {lr}\")\n",
        "                valid_acc = trainer(config)\n",
        "                # print(\"valid acc = \", valid_acc)\n",
        "                if valid_acc > best_valid_acc:\n",
        "                    # print(\"Best config! Save the model.\")\n",
        "                    model = DNN_Model(hidden_layers=config['hidden_layers'], hidden_dim=config['hidden_dim']).to(device)\n",
        "                    model.load_state_dict(torch.load(model_path))\n",
        "                    torch.save(model.state_dict(), best_model_path)\n",
        "                    best_valid_acc = valid_acc\n",
        "                    best_config = config\n",
        "print(f\"best valid acc = {best_valid_acc}\")\n",
        "print(f\"best config : batch_size = {best_config['batch_size']}, hidden_layers = {best_config['hidden_layers']}, hidden_dim = {best_config['hidden_dim']}, lr = {best_config['lr']}\")"
      ],
      "metadata": {
        "colab": {
          "base_uri": "https://localhost:8080/"
        },
        "id": "cW_jtwhsq04Q",
        "outputId": "c2f9e574-a3ab-4247-871f-cf6fe4f975c0"
      },
      "execution_count": null,
      "outputs": [
        {
          "output_type": "stream",
          "name": "stdout",
          "text": [
            "best valid acc = 0.999875\n",
            "best config : batch_size = 256, hidden_layers = 1, hidden_dim = 32, lr = 0.003\n"
          ]
        }
      ]
    },
    {
      "cell_type": "markdown",
      "source": [
        "### Train again with best config"
      ],
      "metadata": {
        "id": "K_y9VvzbiLDo"
      }
    },
    {
      "cell_type": "code",
      "source": [
        "train_loader = DataLoader(train_dataset, batch_size=best_config['batch_size'], shuffle=True, pin_memory=True)\n",
        "valid_loader = DataLoader(valid_dataset, batch_size=best_config['batch_size'], shuffle=True, pin_memory=True)\n",
        "test_loader = DataLoader(test_dataset, batch_size=best_config['batch_size'], shuffle=False, pin_memory=True)\n",
        "\n",
        "dnn_model = DNN_Model(hidden_layers=best_config['hidden_layers'], hidden_dim=best_config['hidden_dim']).to(device)\n",
        "criterion = nn.BCELoss()\n",
        "optimizer = torch.optim.Adam(dnn_model.parameters(), lr=best_config['lr'])\n",
        "\n",
        "dnn_model.train()\n",
        "train_loss_list, train_acc_list = [], []\n",
        "valid_loss_list, valid_acc_list = [], []\n",
        "n_epoch = best_config['n_epoch']\n",
        "best_acc, early_stop_count = 0, 0\n",
        "for epoch in range(n_epoch):\n",
        "    train_loss, train_acc = 0, 0\n",
        "    valid_loss, valid_acc = 0, 0\n",
        "\n",
        "    for x, y, y_two_class in train_loader:\n",
        "        optimizer.zero_grad()\n",
        "        x, y_two_class = x.to(device), y_two_class.to(device)\n",
        "        outputs = dnn_model(x)\n",
        "        loss = criterion(outputs, y_two_class)\n",
        "        loss.backward()\n",
        "        optimizer.step()\n",
        "\n",
        "        _, train_pred = torch.max(outputs, 1)\n",
        "        train_loss += loss.detach().item()\n",
        "        train_acc += (train_pred.cpu().detach() == y).sum().item()\n",
        "    train_loss = train_loss/len(train_loader)\n",
        "    train_acc = train_acc/len(train_dataset)\n",
        "\n",
        "    with torch.no_grad():\n",
        "        for x, y, y_two_class in valid_loader:\n",
        "            x, y_two_class = x.to(device), y_two_class.to(device)\n",
        "            outputs = dnn_model(x)\n",
        "            loss = criterion(outputs, y_two_class)\n",
        "\n",
        "            _, valid_pred = torch.max(outputs, 1)\n",
        "            valid_loss += loss.detach().item()\n",
        "            valid_acc += (valid_pred.cpu().detach() == y).sum().item()\n",
        "        valid_loss = valid_loss/len(valid_loader)\n",
        "        valid_acc = valid_acc/len(valid_dataset)\n",
        "\n",
        "        if valid_acc > best_acc:\n",
        "            best_acc = valid_acc\n",
        "            early_stop_count = 0\n",
        "            torch.save(dnn_model.state_dict(), model_path)\n",
        "            print(f\"Save model at epoch {epoch+1} with valid acc = {valid_acc}\")\n",
        "            print(f\"train acc = {train_acc}, train_loss = {train_loss}\")\n",
        "        else:\n",
        "            early_stop_count += 1\n",
        "\n",
        "        if early_stop_count >= best_config['early_stop']:\n",
        "            print(f'Model is not improving, early stop at epoch {epoch+1}.')\n",
        "            break\n",
        "\n",
        "    if (epoch+1)%10 == 0:\n",
        "        print(f'Epoch [{epoch+1}/{n_epoch}] : Train Acc : {train_acc} Loss : {train_loss} ; Valid Acc : {valid_acc} Loss : {valid_loss}')\n",
        "    train_loss_list.append(train_loss)\n",
        "    train_acc_list.append(train_acc)\n",
        "    valid_loss_list.append(valid_loss)\n",
        "    valid_acc_list.append(valid_acc)"
      ],
      "metadata": {
        "id": "t5eHPcdliLuV",
        "colab": {
          "base_uri": "https://localhost:8080/"
        },
        "outputId": "76205449-90ad-42eb-e87f-c46096fec397"
      },
      "execution_count": null,
      "outputs": [
        {
          "output_type": "stream",
          "name": "stdout",
          "text": [
            "Save model at epoch 1 with valid acc = 0.998\n",
            "train acc = 0.9891109598744428, train_loss = 0.09598002643225358\n",
            "Epoch [10/200] : Train Acc : 0.9978194141585299 Loss : 0.013368751051181809 ; Valid Acc : 0.998 Loss : 0.011498170373670291\n",
            "Epoch [20/200] : Train Acc : 0.9978194141585299 Loss : 0.010925349665695062 ; Valid Acc : 0.998 Loss : 0.00861838255514158\n",
            "Epoch [30/200] : Train Acc : 0.9978194141585299 Loss : 0.010665153996219713 ; Valid Acc : 0.998 Loss : 0.010572263621725142\n",
            "Save model at epoch 35 with valid acc = 0.999\n",
            "train acc = 0.9979860831400437, train_loss = 0.007313077617725622\n",
            "Epoch [40/200] : Train Acc : 0.9984583119209989 Loss : 0.008961155901023959 ; Valid Acc : 0.998375 Loss : 0.006926667195330083\n",
            "Save model at epoch 41 with valid acc = 0.999125\n",
            "train acc = 0.9984166446756205, train_loss = 0.009181071887001666\n",
            "Epoch [50/200] : Train Acc : 0.9982638647758997 Loss : 0.008067467012764649 ; Valid Acc : 0.998625 Loss : 0.013495141447492642\n",
            "Save model at epoch 53 with valid acc = 0.99925\n",
            "train acc = 0.9986249809025125, train_loss = 0.008665896198445608\n",
            "Epoch [60/200] : Train Acc : 0.9988472062111974 Loss : 0.005967791156318197 ; Valid Acc : 0.999125 Loss : 0.003974598205786606\n",
            "Epoch [70/200] : Train Acc : 0.998874984374783 Loss : 0.006455498093723464 ; Valid Acc : 0.99925 Loss : 0.0025905729380610865\n",
            "Save model at epoch 73 with valid acc = 0.999375\n",
            "train acc = 0.9987916498840261, train_loss = 0.006540332588167772\n",
            "Epoch [80/200] : Train Acc : 0.9986527590660982 Loss : 0.006955940501784232 ; Valid Acc : 0.99925 Loss : 0.0030111229889371316\n",
            "Epoch [90/200] : Train Acc : 0.9985972027389269 Loss : 0.006652563713438948 ; Valid Acc : 0.9985 Loss : 0.006496680005511735\n",
            "Epoch [100/200] : Train Acc : 0.9986388699843053 Loss : 0.007064513792572807 ; Valid Acc : 0.99875 Loss : 0.005936431773079676\n",
            "Save model at epoch 103 with valid acc = 0.9995\n",
            "train acc = 0.9989166516201614, train_loss = 0.006123810054376021\n",
            "Epoch [110/200] : Train Acc : 0.9989722079473325 Loss : 0.005485915381522067 ; Valid Acc : 0.999125 Loss : 0.003005609290994471\n",
            "Epoch [120/200] : Train Acc : 0.9987499826386478 Loss : 0.007836668626842888 ; Valid Acc : 0.999125 Loss : 0.0037160497267905157\n",
            "Epoch [130/200] : Train Acc : 0.9985972027389269 Loss : 0.0067202923458204965 ; Valid Acc : 0.998875 Loss : 0.005685317993993522\n",
            "Save model at epoch 134 with valid acc = 0.999625\n",
            "train acc = 0.9988194280476118, train_loss = 0.006087538528632611\n",
            "Epoch [140/200] : Train Acc : 0.9989166516201614 Loss : 0.0059774287058625055 ; Valid Acc : 0.999 Loss : 0.0026560494716250105\n",
            "Epoch [150/200] : Train Acc : 0.9989027625383686 Loss : 0.005132439847852281 ; Valid Acc : 0.999375 Loss : 0.002609078147997934\n",
            "Epoch [160/200] : Train Acc : 0.9989027625383686 Loss : 0.005986805667346079 ; Valid Acc : 0.999125 Loss : 0.004444246773346094\n",
            "Save model at epoch 166 with valid acc = 0.99975\n",
            "train acc = 0.9988333171294046, train_loss = 0.00576829655784932\n",
            "Epoch [170/200] : Train Acc : 0.9987499826386478 Loss : 0.006569349040101441 ; Valid Acc : 0.99925 Loss : 0.0063491540549875936\n",
            "Epoch [180/200] : Train Acc : 0.9989166516201614 Loss : 0.005913986662111298 ; Valid Acc : 0.999375 Loss : 0.0029655907819687854\n",
            "Epoch [190/200] : Train Acc : 0.9989583188655398 Loss : 0.00610477680099735 ; Valid Acc : 0.999375 Loss : 0.0030416713689191965\n",
            "Epoch [200/200] : Train Acc : 0.998874984374783 Loss : 0.005714520872203165 ; Valid Acc : 0.99925 Loss : 0.00413416362607677\n"
          ]
        }
      ]
    },
    {
      "cell_type": "code",
      "source": [
        "fig, (ax1, ax2) = plt.subplots(1,2, figsize=(12,4))\n",
        "ax1.set_title(\"loss\")\n",
        "ax1.set_xlabel(\"epoch\")\n",
        "ax1.set_ylabel(\"loss\")\n",
        "ax1.plot(train_loss_list, label=\"train loss\")\n",
        "ax1.plot(valid_loss_list, label=\"valid loss\")\n",
        "ax1.legend()\n",
        "ax2.set_title(\"acc\")\n",
        "ax2.set_xlabel(\"epoch\")\n",
        "ax2.set_ylabel(\"acc\")\n",
        "ax2.plot(train_acc_list, label=\"train acc\")\n",
        "ax2.plot(valid_acc_list, label=\"valid acc\")\n",
        "ax2.legend()"
      ],
      "metadata": {
        "colab": {
          "base_uri": "https://localhost:8080/",
          "height": 312
        },
        "id": "XSk-2WvCKAmH",
        "outputId": "c932c5ef-97f7-44c2-fcac-2e50318d1c98"
      },
      "execution_count": null,
      "outputs": [
        {
          "output_type": "execute_result",
          "data": {
            "text/plain": [
              "<matplotlib.legend.Legend at 0x7f20bbb257d0>"
            ]
          },
          "metadata": {},
          "execution_count": 41
        },
        {
          "output_type": "display_data",
          "data": {
            "text/plain": [
              "<Figure size 864x288 with 2 Axes>"
            ],
            "image/png": "[encoded data removed]"
          },
          "metadata": {
            "needs_background": "light"
          }
        }
      ]
    },
    {
      "cell_type": "markdown",
      "source": [
        "### Evaluation\n",
        "\n"
      ],
      "metadata": {
        "id": "dP1v6zyliNAo"
      }
    },
    {
      "cell_type": "code",
      "source": [
        "model = DNN_Model(hidden_layers=best_config['hidden_layers'], hidden_dim=best_config['hidden_dim']).to(device)\n",
        "model.load_state_dict(torch.load(model_path))\n",
        "model.eval()\n",
        "DNN_test_proba, DNN_test_pred = [], []\n",
        "test_loss, test_acc = 0, 0\n",
        "with torch.no_grad():\n",
        "    for x, y, y_two_class in tqdm(test_loader):\n",
        "        x, y_two_class = x.to(device), y_two_class.to(device)\n",
        "        outputs = model(x)\n",
        "        loss = criterion(outputs, y_two_class)\n",
        "        DNN_test_proba += outputs.cpu().detach().tolist()\n",
        "\n",
        "        _, test_pred = torch.max(outputs, 1)\n",
        "        test_loss += loss.detach().item()\n",
        "        test_acc += (test_pred.cpu().detach() == y).sum().item()\n",
        "        DNN_test_pred += test_pred.tolist()\n",
        "    test_acc = test_acc/len(test_dataset)\n",
        "    test_loss = test_loss/len(test_loader)"
      ],
      "metadata": {
        "id": "PoNyIJSwiPvQ",
        "colab": {
          "base_uri": "https://localhost:8080/"
        },
        "outputId": "b9bd19f1-56e1-4a53-d243-8700b599082b"
      },
      "execution_count": null,
      "outputs": [
        {
          "output_type": "stream",
          "name": "stderr",
          "text": [
            "100%|██████████| 79/79 [00:00<00:00, 470.35it/s]\n"
          ]
        }
      ]
    },
    {
      "cell_type": "code",
      "source": [
        "print(\"train acc : \", round(train_acc,4))\n",
        "print(\"test acc : \", round(test_acc,4))\n",
        "print(\"train loss : \", round(train_loss,5))\n",
        "print(\"test loss : \", round(test_loss,5))"
      ],
      "metadata": {
        "colab": {
          "base_uri": "https://localhost:8080/"
        },
        "id": "oTLRKnYafcYo",
        "outputId": "8cf7ee4f-efa7-469d-baad-534b453fadae"
      },
      "execution_count": null,
      "outputs": [
        {
          "output_type": "stream",
          "name": "stdout",
          "text": [
            "train acc :  0.9989\n",
            "test acc :  0.9992\n",
            "train loss :  0.00571\n",
            "test loss :  0.00331\n"
          ]
        }
      ]
    },
    {
      "cell_type": "code",
      "source": [
        "plot_confusion_matrix(test_y, DNN_test_pred, \"DNN\")"
      ],
      "metadata": {
        "colab": {
          "base_uri": "https://localhost:8080/",
          "height": 372
        },
        "id": "f-fDxs4CgCow",
        "outputId": "edceddeb-1863-41ae-e242-34bf74ceecbc"
      },
      "execution_count": null,
      "outputs": [
        {
          "output_type": "stream",
          "name": "stdout",
          "text": [
            "\n",
            "\n"
          ]
        },
        {
          "output_type": "display_data",
          "data": {
            "text/plain": [
              "<Figure size 432x288 with 2 Axes>"
            ],
            "image/png": "[encoded data removed]"
          },
          "metadata": {
            "needs_background": "light"
          }
        }
      ]
    },
    {
      "cell_type": "code",
      "source": [
        "print(\"----------classification report of DNN----------\")\n",
        "print(classification_report(test_y, DNN_test_pred, labels=[0,1]))"
      ],
      "metadata": {
        "colab": {
          "base_uri": "https://localhost:8080/"
        },
        "id": "cowA9lzBg8Yv",
        "outputId": "3865005a-5301-40fe-8a1e-b9b5f86d58c3"
      },
      "execution_count": null,
      "outputs": [
        {
          "output_type": "stream",
          "name": "stdout",
          "text": [
            "----------classification report of DNN----------\n",
            "              precision    recall  f1-score   support\n",
            "\n",
            "           0       1.00      1.00      1.00     19950\n",
            "           1       0.82      0.90      0.86        50\n",
            "\n",
            "    accuracy                           1.00     20000\n",
            "   macro avg       0.91      0.95      0.93     20000\n",
            "weighted avg       1.00      1.00      1.00     20000\n",
            "\n"
          ]
        }
      ]
    },
    {
      "cell_type": "markdown",
      "source": [
        "### ROC and PRC"
      ],
      "metadata": {
        "id": "0voIYbP6mY0V"
      }
    },
    {
      "cell_type": "code",
      "source": [
        "DNN_test_proba = np.array(DNN_test_proba)"
      ],
      "metadata": {
        "id": "RVV-OA_xnrjg"
      },
      "execution_count": null,
      "outputs": []
    },
    {
      "cell_type": "code",
      "source": [
        "plot_roc_curve(test_y, np.array(DNN_test_proba), \"DNN\")"
      ],
      "metadata": {
        "colab": {
          "base_uri": "https://localhost:8080/",
          "height": 295
        },
        "outputId": "29d7cfa5-ee76-497a-a4d4-b7c5fbae7d80",
        "id": "AFjCqk6rmeRv"
      },
      "execution_count": null,
      "outputs": [
        {
          "output_type": "display_data",
          "data": {
            "text/plain": [
              "<Figure size 432x288 with 1 Axes>"
            ],
            "image/png": "[encoded data removed]"
          },
          "metadata": {
            "needs_background": "light"
          }
        }
      ]
    },
    {
      "cell_type": "code",
      "source": [
        "plot_prc(test_y, DNN_test_proba, \"DNN\")"
      ],
      "metadata": {
        "colab": {
          "base_uri": "https://localhost:8080/",
          "height": 295
        },
        "outputId": "7daf2059-8e7b-47dd-f616-26df9e7a6674",
        "id": "kScxtgWGmeRv"
      },
      "execution_count": null,
      "outputs": [
        {
          "output_type": "display_data",
          "data": {
            "text/plain": [
              "<Figure size 432x288 with 1 Axes>"
            ],
            "image/png": "[encoded data removed]"
          },
          "metadata": {
            "needs_background": "light"
          }
        }
      ]
    },
    {
      "cell_type": "markdown",
      "source": [
        "# Random Undersampling"
      ],
      "metadata": {
        "id": "XCx3GM1Jpqlz"
      }
    },
    {
      "cell_type": "code",
      "source": [
        "import random\n",
        "random.seed(1)"
      ],
      "metadata": {
        "id": "h660cdNyrjPQ"
      },
      "execution_count": null,
      "outputs": []
    },
    {
      "cell_type": "code",
      "source": [
        "fraud_num = int(sum(train_y))\n",
        "non_fraud_index = []\n",
        "for id in range(len(train_y)):\n",
        "    if train_y[id] == 0:\n",
        "        non_fraud_index.append(id)\n",
        "sample_index = random.sample(non_fraud_index, fraud_num)\n",
        "\n",
        "new_train_x, new_train_y, new_train_set = [], [], []\n",
        "for id in range(len(train_y)):\n",
        "    if train_y[id] == 1 or id in sample_index:\n",
        "        new_train_x.append(train_x[id].tolist())\n",
        "        new_train_y.append(train_y[id].tolist())\n",
        "        new_train_set.append(train_set[id].tolist())\n",
        "new_train_x = np.array(new_train_x)\n",
        "new_train_y = np.array(new_train_y)\n",
        "new_train_set = np.array(new_train_set)"
      ],
      "metadata": {
        "id": "RcWsAt9lqVmi"
      },
      "execution_count": null,
      "outputs": []
    },
    {
      "cell_type": "markdown",
      "source": [
        "## LR"
      ],
      "metadata": {
        "id": "nrZS0gaamTeF"
      }
    },
    {
      "cell_type": "code",
      "source": [
        "LR_Model_2 = LogisticRegression(random_state=0)\n",
        "LR_Model_2.fit(new_train_x, new_train_y)\n",
        "LR_test_pred_2 = LR_Model_2.predict(test_x)\n",
        "plot_confusion_matrix(test_y, LR_test_pred_2, \"LR\")\n",
        "print(\"----------classification report of LR----------\")\n",
        "print(classification_report(test_y, LR_test_pred_2, labels=[0,1]))"
      ],
      "metadata": {
        "colab": {
          "base_uri": "https://localhost:8080/",
          "height": 551
        },
        "id": "MH7BNHl3mzVH",
        "outputId": "17f3f00f-8545-4172-faec-a26d33b506c8"
      },
      "execution_count": null,
      "outputs": [
        {
          "output_type": "stream",
          "name": "stdout",
          "text": [
            "\n",
            "\n"
          ]
        },
        {
          "output_type": "display_data",
          "data": {
            "text/plain": [
              "<Figure size 432x288 with 2 Axes>"
            ],
            "image/png": "[encoded data removed]"
          },
          "metadata": {
            "needs_background": "light"
          }
        },
        {
          "output_type": "stream",
          "name": "stdout",
          "text": [
            "----------classification report of LR----------\n",
            "              precision    recall  f1-score   support\n",
            "\n",
            "           0       1.00      0.97      0.99     19950\n",
            "           1       0.08      0.94      0.14        50\n",
            "\n",
            "    accuracy                           0.97     20000\n",
            "   macro avg       0.54      0.96      0.56     20000\n",
            "weighted avg       1.00      0.97      0.98     20000\n",
            "\n"
          ]
        }
      ]
    },
    {
      "cell_type": "markdown",
      "source": [
        "## SVM"
      ],
      "metadata": {
        "id": "cV2J8oaYntsb"
      }
    },
    {
      "cell_type": "code",
      "source": [
        "SVM_Model_2 = SVC(kernel='linear')\n",
        "SVM_Model_2.fit(new_train_x, new_train_y)\n",
        "SVM_test_pred_2 = SVM_Model_2.predict(test_x)\n",
        "plot_confusion_matrix(test_y, SVM_test_pred_2, \"SVM\")\n",
        "print(\"----------classification report of SVM----------\")\n",
        "print(classification_report(test_y, SVM_test_pred_2, labels=[0,1]))"
      ],
      "metadata": {
        "colab": {
          "base_uri": "https://localhost:8080/",
          "height": 551
        },
        "id": "4T3hAJMCnvIi",
        "outputId": "4dea7537-1e1b-48ac-d592-7a8e057004c6"
      },
      "execution_count": null,
      "outputs": [
        {
          "output_type": "stream",
          "name": "stdout",
          "text": [
            "\n",
            "\n"
          ]
        },
        {
          "output_type": "display_data",
          "data": {
            "text/plain": [
              "<Figure size 432x288 with 2 Axes>"
            ],
            "image/png": "[encoded data removed]"
          },
          "metadata": {
            "needs_background": "light"
          }
        },
        {
          "output_type": "stream",
          "name": "stdout",
          "text": [
            "----------classification report of SVM----------\n",
            "              precision    recall  f1-score   support\n",
            "\n",
            "           0       1.00      0.99      1.00     19950\n",
            "           1       0.24      0.92      0.38        50\n",
            "\n",
            "    accuracy                           0.99     20000\n",
            "   macro avg       0.62      0.96      0.69     20000\n",
            "weighted avg       1.00      0.99      0.99     20000\n",
            "\n"
          ]
        }
      ]
    },
    {
      "cell_type": "markdown",
      "source": [
        "## RF"
      ],
      "metadata": {
        "id": "nnqW-Rm9nwRb"
      }
    },
    {
      "cell_type": "code",
      "source": [
        "RF_Model_2 = RandomForestClassifier(max_depth=5, random_state=0)\n",
        "RF_Model_2.fit(new_train_x, new_train_y)\n",
        "RF_test_pred_2 = RF_Model_2.predict(test_x)\n",
        "plot_confusion_matrix(test_y, RF_test_pred_2, \"RF\")\n",
        "print(\"----------classification report of RF----------\")\n",
        "print(classification_report(test_y, RF_test_pred_2, labels=[0,1]))"
      ],
      "metadata": {
        "colab": {
          "base_uri": "https://localhost:8080/",
          "height": 551
        },
        "id": "qjmPJk7tmHdZ",
        "outputId": "41acd4a7-b109-4c75-a00a-5a6431ead7f5"
      },
      "execution_count": null,
      "outputs": [
        {
          "output_type": "stream",
          "name": "stdout",
          "text": [
            "\n",
            "\n"
          ]
        },
        {
          "output_type": "display_data",
          "data": {
            "text/plain": [
              "<Figure size 432x288 with 2 Axes>"
            ],
            "image/png": "[encoded data removed]"
          },
          "metadata": {
            "needs_background": "light"
          }
        },
        {
          "output_type": "stream",
          "name": "stdout",
          "text": [
            "----------classification report of RF----------\n",
            "              precision    recall  f1-score   support\n",
            "\n",
            "           0       1.00      0.98      0.99     19950\n",
            "           1       0.13      0.94      0.23        50\n",
            "\n",
            "    accuracy                           0.98     20000\n",
            "   macro avg       0.57      0.96      0.61     20000\n",
            "weighted avg       1.00      0.98      0.99     20000\n",
            "\n"
          ]
        }
      ]
    },
    {
      "cell_type": "markdown",
      "source": [
        "## DNN"
      ],
      "metadata": {
        "id": "gmT2pPdlnx5l"
      }
    },
    {
      "cell_type": "code",
      "source": [
        "config_2 = {\n",
        "    'seed' : 1394,\n",
        "    'batch_size' : 8,\n",
        "    'n_epoch' : 1000,\n",
        "    'lr' : 0.002,\n",
        "    'hidden_layers' : 1,\n",
        "    'hidden_dim' : 32,\n",
        "    'early_stop' : 300,\n",
        "    'test_batch_size' : 256\n",
        "}"
      ],
      "metadata": {
        "id": "LKa8QMwzsMyX"
      },
      "execution_count": null,
      "outputs": []
    },
    {
      "cell_type": "code",
      "source": [
        "DNN_new_train_set, DNN_new_valid_set = train_valid_split(new_train_set, 0.9, config_2['seed'])\n",
        "DNN_new_train_x, DNN_new_train_y = split_label(DNN_new_train_set)\n",
        "DNN_new_valid_x, DNN_new_valid_y = split_label(DNN_new_valid_set)\n",
        "new_train_y.sum(), DNN_new_train_y.sum(), DNN_new_valid_y.sum()"
      ],
      "metadata": {
        "colab": {
          "base_uri": "https://localhost:8080/"
        },
        "id": "dDVSsUHWmmb5",
        "outputId": "cc3f808b-f486-4b95-8e2e-d2e54333223a"
      },
      "execution_count": null,
      "outputs": [
        {
          "output_type": "execute_result",
          "data": {
            "text/plain": [
              "(173.0, 158.0, 15.0)"
            ]
          },
          "metadata": {},
          "execution_count": 115
        }
      ]
    },
    {
      "cell_type": "code",
      "source": [
        "new_train_dataset = Fraud_Dataset(DNN_new_train_x, DNN_new_train_y)\n",
        "new_valid_dataset = Fraud_Dataset(DNN_new_valid_x, DNN_new_valid_y)\n",
        "test_dataset = Fraud_Dataset(test_x, test_y)\n",
        "\n",
        "new_train_loader = DataLoader(new_train_dataset, batch_size=config_2['batch_size'], shuffle=True, pin_memory=True)\n",
        "new_valid_loader = DataLoader(new_valid_dataset, batch_size=config_2['batch_size'], shuffle=True, pin_memory=True)\n",
        "test_loader = DataLoader(test_dataset, batch_size=config_2['test_batch_size'], shuffle=False, pin_memory=True)"
      ],
      "metadata": {
        "id": "twJ4n9ciosla"
      },
      "execution_count": null,
      "outputs": []
    },
    {
      "cell_type": "code",
      "source": [
        "dnn_model_2 = DNN_Model(hidden_layers=config_2['hidden_layers'], hidden_dim=config_2['hidden_dim']).to(device)\n",
        "criterion_2 = nn.BCELoss()\n",
        "optimizer_2 = torch.optim.Adam(dnn_model_2.parameters(), lr=config_2['lr'])\n",
        "\n",
        "if not os.path.isdir('./models'):\n",
        "    os.mkdir('./models')\n",
        "\n",
        "model_path_2 = \"./models/undersampling_dnn_model.ckpt\"\n",
        "\n",
        "dnn_model_2.train()\n",
        "train_loss_list_2, train_acc_list_2 = [], []\n",
        "valid_loss_list_2, valid_acc_list_2 = [], []\n",
        "n_epoch = config_2['n_epoch']\n",
        "best_acc, early_stop_count = 0, 0\n",
        "for epoch in range(n_epoch):\n",
        "    train_loss_2, train_acc_2 = 0, 0\n",
        "    valid_loss_2, valid_acc_2 = 0, 0\n",
        "\n",
        "    for x, y, y_two_class in new_train_loader:\n",
        "        optimizer_2.zero_grad()\n",
        "        x, y_two_class = x.to(device), y_two_class.to(device)\n",
        "        outputs = dnn_model_2(x)\n",
        "        loss = criterion_2(outputs, y_two_class)\n",
        "        loss.backward()\n",
        "        optimizer_2.step()\n",
        "\n",
        "        _, train_pred = torch.max(outputs, 1)\n",
        "        train_loss_2 += loss.detach().item()\n",
        "        train_acc_2 += (train_pred.cpu().detach() == y).sum().item()\n",
        "    train_loss_2 = train_loss_2/len(new_train_loader)\n",
        "    train_acc_2 = train_acc_2/len(new_train_dataset)\n",
        "\n",
        "    with torch.no_grad():\n",
        "        for x, y, y_two_class in new_valid_loader:\n",
        "            x, y_two_class = x.to(device), y_two_class.to(device)\n",
        "            outputs = dnn_model_2(x)\n",
        "            loss = criterion_2(outputs, y_two_class)\n",
        "\n",
        "            _, valid_pred = torch.max(outputs, 1)\n",
        "            valid_loss_2 += loss.detach().item()\n",
        "            valid_acc_2 += (valid_pred.cpu().detach() == y).sum().item()\n",
        "        valid_loss_2 = valid_loss_2/len(new_valid_loader)\n",
        "        valid_acc_2 = valid_acc_2/len(new_valid_dataset)\n",
        "\n",
        "        if valid_acc_2 > best_acc:\n",
        "            best_acc = valid_acc_2\n",
        "            early_stop_count = 0\n",
        "            torch.save(dnn_model_2.state_dict(), model_path_2)\n",
        "            print(f\"Save model at epoch {epoch+1} with valid acc = {valid_acc_2}\")\n",
        "            print(f\"train acc = {train_acc_2}, train_loss = {train_loss_2}\")\n",
        "        else:\n",
        "            early_stop_count += 1\n",
        "\n",
        "        if early_stop_count >= config_2['early_stop']:\n",
        "            print(f'Model is not improving, early stop at epoch {epoch+1}.')\n",
        "            break\n",
        "\n",
        "    if (epoch+1)%10 == 0:\n",
        "        print(f'Epoch [{epoch+1}/{n_epoch}] : Train Acc : {train_acc_2} Loss : {train_loss_2} ; Valid Acc : {valid_acc_2} Loss : {valid_loss_2}')\n",
        "    train_loss_list_2.append(train_loss_2)\n",
        "    train_acc_list_2.append(train_acc_2)\n",
        "    valid_loss_list_2.append(valid_loss_2)\n",
        "    valid_acc_list_2.append(valid_acc_2)"
      ],
      "metadata": {
        "colab": {
          "base_uri": "https://localhost:8080/"
        },
        "id": "IxYx_JNwmZEF",
        "outputId": "8b98705b-2e8c-4871-ad5b-cf89c0f1ca5f"
      },
      "execution_count": null,
      "outputs": [
        {
          "output_type": "stream",
          "name": "stdout",
          "text": [
            "Save model at epoch 1 with valid acc = 0.4857142857142857\n",
            "train acc = 0.4983922829581994, train_loss = 0.7129489978154501\n",
            "Save model at epoch 2 with valid acc = 0.6285714285714286\n",
            "train acc = 0.5659163987138264, train_loss = 0.6837734381357828\n",
            "Save model at epoch 6 with valid acc = 0.6571428571428571\n",
            "train acc = 0.6205787781350482, train_loss = 0.6635100856805459\n",
            "Save model at epoch 9 with valid acc = 0.7714285714285715\n",
            "train acc = 0.6270096463022508, train_loss = 0.6431056230496137\n",
            "Epoch [10/1000] : Train Acc : 0.7395498392282959 Loss : 0.5679259338440039 ; Valid Acc : 0.6571428571428571 Loss : 0.6140305519104003\n",
            "Save model at epoch 16 with valid acc = 0.8285714285714286\n",
            "train acc = 0.707395498392283, train_loss = 0.5719312444711343\n",
            "Save model at epoch 17 with valid acc = 0.8857142857142857\n",
            "train acc = 0.6945337620578779, train_loss = 0.5861264581863697\n",
            "Epoch [20/1000] : Train Acc : 0.6913183279742765 Loss : 0.5986596238918793 ; Valid Acc : 0.7428571428571429 Loss : 0.5413318812847138\n",
            "Save model at epoch 30 with valid acc = 0.9142857142857143\n",
            "train acc = 0.7170418006430869, train_loss = 0.5318793528355085\n",
            "Epoch [30/1000] : Train Acc : 0.7170418006430869 Loss : 0.5318793528355085 ; Valid Acc : 0.9142857142857143 Loss : 0.3658704936504364\n",
            "Epoch [40/1000] : Train Acc : 0.7363344051446945 Loss : 0.5546064239281875 ; Valid Acc : 0.7428571428571429 Loss : 0.4196293503046036\n",
            "Epoch [50/1000] : Train Acc : 0.7652733118971061 Loss : 0.5157856257298054 ; Valid Acc : 0.5714285714285714 Loss : 0.6232055425643921\n",
            "Epoch [60/1000] : Train Acc : 0.7684887459807074 Loss : 0.45792254232443297 ; Valid Acc : 0.8571428571428571 Loss : 0.3922488570213318\n",
            "Epoch [70/1000] : Train Acc : 0.8006430868167203 Loss : 0.4238941505169257 ; Valid Acc : 0.7714285714285715 Loss : 0.5491767853498459\n",
            "Epoch [80/1000] : Train Acc : 0.819935691318328 Loss : 0.4135029598688468 ; Valid Acc : 0.8571428571428571 Loss : 0.33275251984596255\n",
            "Epoch [90/1000] : Train Acc : 0.7942122186495176 Loss : 0.4359717197143115 ; Valid Acc : 0.8857142857142857 Loss : 0.30081780552864074\n",
            "Epoch [100/1000] : Train Acc : 0.8263665594855305 Loss : 0.40882676916244703 ; Valid Acc : 0.8 Loss : 0.553116974234581\n",
            "Epoch [110/1000] : Train Acc : 0.797427652733119 Loss : 0.4243517544789192 ; Valid Acc : 0.9142857142857143 Loss : 0.3655541896820068\n",
            "Epoch [120/1000] : Train Acc : 0.7813504823151125 Loss : 0.47087261501031047 ; Valid Acc : 0.6857142857142857 Loss : 0.6239290088415146\n",
            "Epoch [130/1000] : Train Acc : 0.7781350482315113 Loss : 0.4492725328757213 ; Valid Acc : 0.8285714285714286 Loss : 0.38657525181770325\n",
            "Epoch [140/1000] : Train Acc : 0.8456591639871383 Loss : 0.38597473406638855 ; Valid Acc : 0.8285714285714286 Loss : 0.5146160244941711\n",
            "Epoch [150/1000] : Train Acc : 0.8295819935691319 Loss : 0.4047619230472125 ; Valid Acc : 0.8857142857142857 Loss : 0.2671667367219925\n",
            "Epoch [160/1000] : Train Acc : 0.8263665594855305 Loss : 0.43165292609960604 ; Valid Acc : 0.8285714285714286 Loss : 0.5981468856334686\n",
            "Save model at epoch 162 with valid acc = 0.9428571428571428\n",
            "train acc = 0.8456591639871383, train_loss = 0.371508746384046\n",
            "Epoch [170/1000] : Train Acc : 0.7942122186495176 Loss : 0.46147784285056287 ; Valid Acc : 0.8857142857142857 Loss : 0.37547234296798704\n",
            "Epoch [180/1000] : Train Acc : 0.7909967845659164 Loss : 0.4792322359788112 ; Valid Acc : 0.8571428571428571 Loss : 0.4450731635093689\n",
            "Epoch [190/1000] : Train Acc : 0.842443729903537 Loss : 0.32753733851206607 ; Valid Acc : 0.7142857142857143 Loss : 0.7234453052282334\n",
            "Epoch [200/1000] : Train Acc : 0.8810289389067524 Loss : 0.31371181534651 ; Valid Acc : 0.8 Loss : 0.46236686408519745\n",
            "Epoch [210/1000] : Train Acc : 0.8520900321543409 Loss : 0.36758328859622663 ; Valid Acc : 0.7714285714285715 Loss : 0.7147375822067261\n",
            "Epoch [220/1000] : Train Acc : 0.8681672025723473 Loss : 0.331107595601143 ; Valid Acc : 0.8285714285714286 Loss : 0.35661266148090365\n",
            "Epoch [230/1000] : Train Acc : 0.864951768488746 Loss : 0.32712628501348007 ; Valid Acc : 0.8571428571428571 Loss : 0.3303103595972061\n",
            "Epoch [240/1000] : Train Acc : 0.8778135048231511 Loss : 0.30103306032908267 ; Valid Acc : 0.8571428571428571 Loss : 0.37493228912353516\n",
            "Epoch [250/1000] : Train Acc : 0.8456591639871383 Loss : 0.36469207130945647 ; Valid Acc : 0.8857142857142857 Loss : 0.32015630006790163\n",
            "Epoch [260/1000] : Train Acc : 0.8745980707395499 Loss : 0.3410975898687656 ; Valid Acc : 0.8 Loss : 0.33218490779399873\n",
            "Epoch [270/1000] : Train Acc : 0.8392282958199357 Loss : 0.360227807592123 ; Valid Acc : 0.8571428571428571 Loss : 0.32695999145507815\n",
            "Epoch [280/1000] : Train Acc : 0.8520900321543409 Loss : 0.34003579463714206 ; Valid Acc : 0.8 Loss : 0.5505951642990112\n",
            "Epoch [290/1000] : Train Acc : 0.8488745980707395 Loss : 0.32183576719119 ; Valid Acc : 0.8285714285714286 Loss : 0.5657824784517288\n",
            "Epoch [300/1000] : Train Acc : 0.8553054662379421 Loss : 0.32443182227703243 ; Valid Acc : 0.8285714285714286 Loss : 0.43605718910694125\n",
            "Epoch [310/1000] : Train Acc : 0.8520900321543409 Loss : 0.36306011371123487 ; Valid Acc : 0.8 Loss : 0.38058511912822723\n",
            "Epoch [320/1000] : Train Acc : 0.8745980707395499 Loss : 0.3393006772758105 ; Valid Acc : 0.8285714285714286 Loss : 0.28218098282814025\n",
            "Epoch [330/1000] : Train Acc : 0.9131832797427653 Loss : 0.2652002104964012 ; Valid Acc : 0.8571428571428571 Loss : 0.36096837669610976\n",
            "Epoch [340/1000] : Train Acc : 0.8906752411575563 Loss : 0.29692946450832564 ; Valid Acc : 0.7714285714285715 Loss : 0.49607823193073275\n",
            "Epoch [350/1000] : Train Acc : 0.8745980707395499 Loss : 0.31285420805215836 ; Valid Acc : 0.9142857142857143 Loss : 0.5471369251608849\n",
            "Save model at epoch 355 with valid acc = 0.9714285714285714\n",
            "train acc = 0.909967845659164, train_loss = 0.25280936730977815\n",
            "Epoch [360/1000] : Train Acc : 0.9196141479099679 Loss : 0.2402617898889077 ; Valid Acc : 0.7714285714285715 Loss : 0.36972242668271066\n",
            "Epoch [370/1000] : Train Acc : 0.8745980707395499 Loss : 0.33348015657602215 ; Valid Acc : 0.7428571428571429 Loss : 0.5579740956425667\n",
            "Epoch [380/1000] : Train Acc : 0.8713826366559485 Loss : 0.34591794625306743 ; Valid Acc : 0.8571428571428571 Loss : 0.44035762548446655\n",
            "Epoch [390/1000] : Train Acc : 0.8713826366559485 Loss : 0.29284848807713926 ; Valid Acc : 0.7428571428571429 Loss : 0.8637521713972092\n",
            "Epoch [400/1000] : Train Acc : 0.8520900321543409 Loss : 0.37251792485133195 ; Valid Acc : 0.9142857142857143 Loss : 0.2897809237241745\n",
            "Epoch [410/1000] : Train Acc : 0.8745980707395499 Loss : 0.3064785878627728 ; Valid Acc : 0.9142857142857143 Loss : 0.21549986600875853\n",
            "Epoch [420/1000] : Train Acc : 0.8906752411575563 Loss : 0.30033227801322937 ; Valid Acc : 0.7714285714285715 Loss : 0.5011586807668209\n",
            "Epoch [430/1000] : Train Acc : 0.8585209003215434 Loss : 0.34941043723852205 ; Valid Acc : 0.8857142857142857 Loss : 0.2608597636222839\n",
            "Epoch [440/1000] : Train Acc : 0.8906752411575563 Loss : 0.2848712568863844 ; Valid Acc : 0.7714285714285715 Loss : 0.5165083512663842\n",
            "Epoch [450/1000] : Train Acc : 0.8745980707395499 Loss : 0.29830331469957644 ; Valid Acc : 0.8571428571428571 Loss : 0.46411873400211334\n",
            "Epoch [460/1000] : Train Acc : 0.8745980707395499 Loss : 0.3425263403317867 ; Valid Acc : 0.9142857142857143 Loss : 0.31247043013572695\n",
            "Epoch [470/1000] : Train Acc : 0.8778135048231511 Loss : 0.2957909061358525 ; Valid Acc : 0.8285714285714286 Loss : 0.6013093173503876\n",
            "Epoch [480/1000] : Train Acc : 0.8971061093247589 Loss : 0.29864193795201105 ; Valid Acc : 0.8857142857142857 Loss : 0.21433840245008468\n",
            "Epoch [490/1000] : Train Acc : 0.8778135048231511 Loss : 0.30989265823975587 ; Valid Acc : 0.8571428571428571 Loss : 0.35651003643870355\n",
            "Epoch [500/1000] : Train Acc : 0.8327974276527331 Loss : 0.3562733198587711 ; Valid Acc : 0.8857142857142857 Loss : 0.4060607075691223\n",
            "Epoch [510/1000] : Train Acc : 0.8778135048231511 Loss : 0.3139054140983484 ; Valid Acc : 0.8571428571428571 Loss : 0.5226609364151955\n",
            "Epoch [520/1000] : Train Acc : 0.8778135048231511 Loss : 0.3213107816110819 ; Valid Acc : 0.8 Loss : 0.6156104594469071\n",
            "Epoch [530/1000] : Train Acc : 0.9067524115755627 Loss : 0.2808619522704528 ; Valid Acc : 0.9428571428571428 Loss : 0.259816101193428\n",
            "Epoch [540/1000] : Train Acc : 0.8906752411575563 Loss : 0.26905222571431064 ; Valid Acc : 0.8857142857142857 Loss : 0.24844205230474473\n",
            "Epoch [550/1000] : Train Acc : 0.9067524115755627 Loss : 0.26304318497960383 ; Valid Acc : 0.8857142857142857 Loss : 0.31180646270513535\n",
            "Epoch [560/1000] : Train Acc : 0.8842443729903537 Loss : 0.3073394986299368 ; Valid Acc : 0.9142857142857143 Loss : 0.27855822294950483\n",
            "Epoch [570/1000] : Train Acc : 0.887459807073955 Loss : 0.2812071345173396 ; Valid Acc : 0.8 Loss : 0.3801719084382057\n",
            "Epoch [580/1000] : Train Acc : 0.8585209003215434 Loss : 0.34932092624979144 ; Valid Acc : 0.8 Loss : 0.7767682999372483\n",
            "Save model at epoch 588 with valid acc = 1.0\n",
            "train acc = 0.8842443729903537, train_loss = 0.2739386022664033\n",
            "Epoch [590/1000] : Train Acc : 0.8971061093247589 Loss : 0.2599646322047099 ; Valid Acc : 0.9142857142857143 Loss : 0.21021002978086473\n",
            "Epoch [600/1000] : Train Acc : 0.8906752411575563 Loss : 0.2700176261938535 ; Valid Acc : 0.8285714285714286 Loss : 0.5274617448449135\n",
            "Epoch [610/1000] : Train Acc : 0.9035369774919614 Loss : 0.277777088758273 ; Valid Acc : 0.9428571428571428 Loss : 0.36757577061653135\n",
            "Epoch [620/1000] : Train Acc : 0.864951768488746 Loss : 0.3312875446982873 ; Valid Acc : 0.8857142857142857 Loss : 0.4581940874457359\n",
            "Epoch [630/1000] : Train Acc : 0.8971061093247589 Loss : 0.2680025001366933 ; Valid Acc : 0.8857142857142857 Loss : 0.25756638646125796\n",
            "Epoch [640/1000] : Train Acc : 0.9131832797427653 Loss : 0.2494830822524352 ; Valid Acc : 0.9142857142857143 Loss : 0.3038619324564934\n",
            "Epoch [650/1000] : Train Acc : 0.8906752411575563 Loss : 0.27206706007321674 ; Valid Acc : 0.8857142857142857 Loss : 0.3819394811987877\n",
            "Epoch [660/1000] : Train Acc : 0.8713826366559485 Loss : 0.3575740394492944 ; Valid Acc : 0.8857142857142857 Loss : 0.6009054273366928\n",
            "Epoch [670/1000] : Train Acc : 0.8971061093247589 Loss : 0.26728876021045905 ; Valid Acc : 0.8857142857142857 Loss : 0.21877413988113403\n",
            "Epoch [680/1000] : Train Acc : 0.8810289389067524 Loss : 0.3288846481113862 ; Valid Acc : 0.8857142857142857 Loss : 0.32006913125514985\n",
            "Epoch [690/1000] : Train Acc : 0.8810289389067524 Loss : 0.2825639016735248 ; Valid Acc : 0.8571428571428571 Loss : 0.2718829870223999\n",
            "Epoch [700/1000] : Train Acc : 0.8681672025723473 Loss : 0.28509100068074006 ; Valid Acc : 0.7142857142857143 Loss : 1.144411139190197\n",
            "Epoch [710/1000] : Train Acc : 0.9163987138263665 Loss : 0.21955561399077758 ; Valid Acc : 0.8857142857142857 Loss : 0.4071701422333717\n",
            "Epoch [720/1000] : Train Acc : 0.9228295819935691 Loss : 0.22255947660559264 ; Valid Acc : 0.9142857142857143 Loss : 0.25436720699071885\n",
            "Epoch [730/1000] : Train Acc : 0.864951768488746 Loss : 0.2947814399615312 ; Valid Acc : 0.9142857142857143 Loss : 0.18320177122950554\n",
            "Epoch [740/1000] : Train Acc : 0.8681672025723473 Loss : 0.3038687936197489 ; Valid Acc : 0.9142857142857143 Loss : 0.2257959485054016\n",
            "Epoch [750/1000] : Train Acc : 0.8520900321543409 Loss : 0.3811601474881172 ; Valid Acc : 0.8857142857142857 Loss : 0.24372337013483047\n",
            "Epoch [760/1000] : Train Acc : 0.864951768488746 Loss : 0.3474470739945387 ; Valid Acc : 0.8571428571428571 Loss : 0.6624928131699562\n",
            "Epoch [770/1000] : Train Acc : 0.8553054662379421 Loss : 0.3310664714528964 ; Valid Acc : 0.8857142857142857 Loss : 0.3412907510995865\n",
            "Epoch [780/1000] : Train Acc : 0.8585209003215434 Loss : 0.3678719292466457 ; Valid Acc : 0.8857142857142857 Loss : 0.32532739341259004\n",
            "Epoch [790/1000] : Train Acc : 0.8681672025723473 Loss : 0.33371255355767715 ; Valid Acc : 0.8285714285714286 Loss : 0.4394260972738266\n",
            "Epoch [800/1000] : Train Acc : 0.9131832797427653 Loss : 0.2377620359452871 ; Valid Acc : 0.9428571428571428 Loss : 0.4585134506225586\n",
            "Epoch [810/1000] : Train Acc : 0.9067524115755627 Loss : 0.24998504888170806 ; Valid Acc : 0.9142857142857143 Loss : 0.40705753564834596\n",
            "Epoch [820/1000] : Train Acc : 0.887459807073955 Loss : 0.32595386508947766 ; Valid Acc : 0.8571428571428571 Loss : 0.5100124716758728\n",
            "Epoch [830/1000] : Train Acc : 0.9003215434083601 Loss : 0.28650700606596774 ; Valid Acc : 0.9142857142857143 Loss : 0.6432436794042588\n",
            "Epoch [840/1000] : Train Acc : 0.8553054662379421 Loss : 0.3584517939732625 ; Valid Acc : 0.7714285714285715 Loss : 0.5381271049380303\n",
            "Epoch [850/1000] : Train Acc : 0.8971061093247589 Loss : 0.2995719824654934 ; Valid Acc : 0.8857142857142857 Loss : 0.26409015730023383\n",
            "Epoch [860/1000] : Train Acc : 0.9196141479099679 Loss : 0.2527613724844578 ; Valid Acc : 0.8 Loss : 0.8801127731800079\n",
            "Epoch [870/1000] : Train Acc : 0.8778135048231511 Loss : 0.32368047019610036 ; Valid Acc : 0.9142857142857143 Loss : 0.2667359411716461\n",
            "Epoch [880/1000] : Train Acc : 0.9067524115755627 Loss : 0.25343511807612884 ; Valid Acc : 0.9142857142857143 Loss : 0.36766909509897233\n",
            "Model is not improving, early stop at epoch 888.\n"
          ]
        }
      ]
    },
    {
      "cell_type": "code",
      "source": [
        "fig, (ax1, ax2) = plt.subplots(1,2, figsize=(12,4))\n",
        "ax1.set_title(\"loss\")\n",
        "ax1.set_xlabel(\"epoch\")\n",
        "ax1.set_ylabel(\"loss\")\n",
        "ax1.plot(train_loss_list_2, label=\"train loss\")\n",
        "ax1.plot(valid_loss_list_2, label=\"valid loss\")\n",
        "ax1.legend()\n",
        "ax2.set_title(\"acc\")\n",
        "ax2.set_xlabel(\"epoch\")\n",
        "ax2.set_ylabel(\"acc\")\n",
        "ax2.plot(train_acc_list_2, label=\"train acc\")\n",
        "ax2.plot(valid_acc_list_2, label=\"valid acc\")\n",
        "ax2.legend()"
      ],
      "metadata": {
        "colab": {
          "base_uri": "https://localhost:8080/",
          "height": 313
        },
        "id": "HsTANRLepyET",
        "outputId": "9e601055-f30e-4729-febb-a2d235a58ee4"
      },
      "execution_count": null,
      "outputs": [
        {
          "output_type": "execute_result",
          "data": {
            "text/plain": [
              "<matplotlib.legend.Legend at 0x7fe7f20a8c10>"
            ]
          },
          "metadata": {},
          "execution_count": 118
        },
        {
          "output_type": "display_data",
          "data": {
            "text/plain": [
              "<Figure size 864x288 with 2 Axes>"
            ],
            "image/png": "[encoded data removed]"
          },
          "metadata": {
            "needs_background": "light"
          }
        }
      ]
    },
    {
      "cell_type": "code",
      "source": [
        "model = DNN_Model(hidden_layers=config_2['hidden_layers'], hidden_dim=config_2['hidden_dim']).to(device)\n",
        "model.load_state_dict(torch.load(model_path_2))\n",
        "model.eval()\n",
        "DNN_test_proba_2, DNN_test_pred_2 = [], []\n",
        "test_loss_2, test_acc_2 = 0, 0\n",
        "with torch.no_grad():\n",
        "    for x, y, y_two_class in tqdm(test_loader):\n",
        "        x, y_two_class = x.to(device), y_two_class.to(device)\n",
        "        outputs = model(x)\n",
        "        loss = criterion_2(outputs, y_two_class)\n",
        "        DNN_test_proba_2 += outputs.cpu().detach().tolist()\n",
        "\n",
        "        _, test_pred = torch.max(outputs, 1)\n",
        "        test_loss_2 += loss.detach().item()\n",
        "        test_acc_2 += (test_pred.cpu().detach() == y).sum().item()\n",
        "        DNN_test_pred_2 += test_pred.tolist()\n",
        "    test_acc_2 = test_acc_2/len(test_dataset)\n",
        "    test_loss_2 = test_loss_2/len(test_loader)"
      ],
      "metadata": {
        "colab": {
          "base_uri": "https://localhost:8080/"
        },
        "id": "b496lhAyqdC4",
        "outputId": "0cdae846-7a86-4abf-fd92-04b0a08ecf8a"
      },
      "execution_count": null,
      "outputs": [
        {
          "output_type": "stream",
          "name": "stderr",
          "text": [
            "100%|██████████| 79/79 [00:00<00:00, 368.89it/s]\n"
          ]
        }
      ]
    },
    {
      "cell_type": "code",
      "source": [
        "print(\"train acc : \", round(train_acc_2,4))\n",
        "print(\"test acc : \", round(test_acc_2,4))\n",
        "print(\"train loss : \", round(train_loss_2,5))\n",
        "print(\"test loss : \", round(test_loss_2,5))"
      ],
      "metadata": {
        "colab": {
          "base_uri": "https://localhost:8080/"
        },
        "id": "N46Xs064rFjH",
        "outputId": "7bf2e7c7-23b1-4805-8dac-089dc806ad10"
      },
      "execution_count": null,
      "outputs": [
        {
          "output_type": "stream",
          "name": "stdout",
          "text": [
            "train acc :  0.926\n",
            "test acc :  0.9402\n",
            "train loss :  0.21748\n",
            "test loss :  0.35504\n"
          ]
        }
      ]
    },
    {
      "cell_type": "code",
      "source": [
        "plot_confusion_matrix(test_y, DNN_test_pred_2, \"DNN\")\n",
        "print(\"----------classification report of DNN----------\")\n",
        "print(classification_report(test_y, DNN_test_pred_2, labels=[0,1]))"
      ],
      "metadata": {
        "colab": {
          "base_uri": "https://localhost:8080/",
          "height": 551
        },
        "id": "nS7LgAn8qNL3",
        "outputId": "919d39ec-2231-437b-add1-aa89e9fbb60c"
      },
      "execution_count": null,
      "outputs": [
        {
          "output_type": "stream",
          "name": "stdout",
          "text": [
            "\n",
            "\n"
          ]
        },
        {
          "output_type": "display_data",
          "data": {
            "text/plain": [
              "<Figure size 432x288 with 2 Axes>"
            ],
            "image/png": "[encoded data removed]"
          },
          "metadata": {
            "needs_background": "light"
          }
        },
        {
          "output_type": "stream",
          "name": "stdout",
          "text": [
            "----------classification report of DNN----------\n",
            "              precision    recall  f1-score   support\n",
            "\n",
            "           0       1.00      0.94      0.97     19950\n",
            "           1       0.04      0.98      0.08        50\n",
            "\n",
            "    accuracy                           0.94     20000\n",
            "   macro avg       0.52      0.96      0.52     20000\n",
            "weighted avg       1.00      0.94      0.97     20000\n",
            "\n"
          ]
        }
      ]
    },
    {
      "cell_type": "markdown",
      "source": [
        "# Bonus : SMOTETomek"
      ],
      "metadata": {
        "id": "cVstX6tfkNEc"
      }
    },
    {
      "cell_type": "code",
      "source": [
        "from imblearn.combine import SMOTETomek"
      ],
      "metadata": {
        "id": "rfWghfkHkMjK"
      },
      "execution_count": null,
      "outputs": []
    },
    {
      "cell_type": "code",
      "source": [
        "smt = SMOTETomek(random_state=50)\n",
        "X_res, y_res = smt.fit_resample(train_x, train_y)\n",
        "train_set_res = np.concatenate((X_res, y_res.reshape((len(y_res),1))),axis=1)"
      ],
      "metadata": {
        "id": "KivCeJpI39VO"
      },
      "execution_count": null,
      "outputs": []
    },
    {
      "cell_type": "code",
      "source": [
        "print(\"original total samples : \" ,len(train_y))\n",
        "print(\"original positive samples : \" ,train_y.sum())\n",
        "print(\"original positive sample ratio : \", train_y.sum()/len(train_y))\n",
        "print(\"-----------------\")\n",
        "print(\"resampled total samples : \" ,len(y_res))\n",
        "print(\"resampled positive samples : \" ,y_res.sum())\n",
        "print(\"resampled positive sample ratio : \", y_res.sum()/len(y_res))"
      ],
      "metadata": {
        "colab": {
          "base_uri": "https://localhost:8080/"
        },
        "id": "80W8xcLidmhX",
        "outputId": "e7503269-4d89-4c7e-fb45-fc3c1f7db538"
      },
      "execution_count": null,
      "outputs": [
        {
          "output_type": "stream",
          "name": "stdout",
          "text": [
            "original total samples :  79999\n",
            "original positive samples :  173.0\n",
            "original positive sample ratio :  0.0021625270315878947\n",
            "-----------------\n",
            "resampled total samples :  159092\n",
            "resampled positive samples :  79546.0\n",
            "resampled positive sample ratio :  0.5\n"
          ]
        }
      ]
    },
    {
      "cell_type": "markdown",
      "source": [
        "## LR"
      ],
      "metadata": {
        "id": "k8JqiQGshZY-"
      }
    },
    {
      "cell_type": "code",
      "source": [
        "LR_Model_3 = LogisticRegression(random_state=0)\n",
        "LR_Model_3.fit(X_res, y_res)\n",
        "LR_test_pred_3 = LR_Model_3.predict(test_x)\n",
        "plot_confusion_matrix(test_y, LR_test_pred_3, \"LR\")\n",
        "print(\"----------classification report of LR----------\")\n",
        "print(classification_report(test_y, LR_test_pred_3, labels=[0,1]))"
      ],
      "metadata": {
        "colab": {
          "base_uri": "https://localhost:8080/",
          "height": 714
        },
        "id": "qA_Djx3ZfvG_",
        "outputId": "3d6e05a8-8247-4f9a-d0ed-416db3503d6c"
      },
      "execution_count": null,
      "outputs": [
        {
          "output_type": "stream",
          "name": "stderr",
          "text": [
            "/usr/local/lib/python3.7/dist-packages/sklearn/linear_model/_logistic.py:818: ConvergenceWarning: lbfgs failed to converge (status=1):\n",
            "STOP: TOTAL NO. of ITERATIONS REACHED LIMIT.\n",
            "\n",
            "Increase the number of iterations (max_iter) or scale the data as shown in:\n",
            "    https://scikit-learn.org/stable/modules/preprocessing.html\n",
            "Please also refer to the documentation for alternative solver options:\n",
            "    https://scikit-learn.org/stable/modules/linear_model.html#logistic-regression\n",
            "  extra_warning_msg=_LOGISTIC_SOLVER_CONVERGENCE_MSG,\n"
          ]
        },
        {
          "output_type": "stream",
          "name": "stdout",
          "text": [
            "\n",
            "\n"
          ]
        },
        {
          "output_type": "display_data",
          "data": {
            "text/plain": [
              "<Figure size 432x288 with 2 Axes>"
            ],
            "image/png": "[encoded data removed]"
          },
          "metadata": {
            "needs_background": "light"
          }
        },
        {
          "output_type": "stream",
          "name": "stdout",
          "text": [
            "----------classification report of LR----------\n",
            "              precision    recall  f1-score   support\n",
            "\n",
            "           0       1.00      0.98      0.99     19950\n",
            "           1       0.10      0.94      0.18        50\n",
            "\n",
            "    accuracy                           0.98     20000\n",
            "   macro avg       0.55      0.96      0.59     20000\n",
            "weighted avg       1.00      0.98      0.99     20000\n",
            "\n"
          ]
        }
      ]
    },
    {
      "cell_type": "markdown",
      "source": [
        "## SVM"
      ],
      "metadata": {
        "id": "EWmUW745haj-"
      }
    },
    {
      "cell_type": "code",
      "source": [
        "SVM_Model_3 = SVC(kernel='linear')\n",
        "SVM_Model_3.fit(X_res, y_res)\n",
        "SVM_test_pred_3 = SVM_Model_3.predict(test_x)\n",
        "plot_confusion_matrix(test_y, SVM_test_pred_3, \"SVM\")\n",
        "print(\"----------classification report of SVM----------\")\n",
        "print(classification_report(test_y, SVM_test_pred_3, labels=[0,1]))"
      ],
      "metadata": {
        "colab": {
          "base_uri": "https://localhost:8080/",
          "height": 551
        },
        "id": "3lPG--1SgH2n",
        "outputId": "52f1bdec-b446-485c-bba1-08e3c8644ead"
      },
      "execution_count": null,
      "outputs": [
        {
          "output_type": "stream",
          "name": "stdout",
          "text": [
            "\n",
            "\n"
          ]
        },
        {
          "output_type": "display_data",
          "data": {
            "text/plain": [
              "<Figure size 432x288 with 2 Axes>"
            ],
            "image/png": "[encoded data removed]"
          },
          "metadata": {
            "needs_background": "light"
          }
        },
        {
          "output_type": "stream",
          "name": "stdout",
          "text": [
            "----------classification report of SVM----------\n",
            "              precision    recall  f1-score   support\n",
            "\n",
            "           0       1.00      0.99      1.00     19950\n",
            "           1       0.24      0.94      0.39        50\n",
            "\n",
            "    accuracy                           0.99     20000\n",
            "   macro avg       0.62      0.97      0.69     20000\n",
            "weighted avg       1.00      0.99      0.99     20000\n",
            "\n"
          ]
        }
      ]
    },
    {
      "cell_type": "markdown",
      "source": [
        "## RF"
      ],
      "metadata": {
        "id": "SkO-4h5phbyX"
      }
    },
    {
      "cell_type": "code",
      "source": [
        "RF_Model_3 = RandomForestClassifier(max_depth=5, random_state=0)\n",
        "RF_Model_3.fit(X_res, y_res)\n",
        "RF_test_pred_3 = RF_Model_3.predict(test_x)\n",
        "plot_confusion_matrix(test_y, RF_test_pred_3, \"RF\")\n",
        "print(\"----------classification report of RF----------\")\n",
        "print(classification_report(test_y, RF_test_pred_3, labels=[0,1]))"
      ],
      "metadata": {
        "colab": {
          "base_uri": "https://localhost:8080/",
          "height": 551
        },
        "id": "ShdPLNn-gQYS",
        "outputId": "80600fc9-70c8-4590-c5fb-58a97ebc704c"
      },
      "execution_count": null,
      "outputs": [
        {
          "output_type": "stream",
          "name": "stdout",
          "text": [
            "\n",
            "\n"
          ]
        },
        {
          "output_type": "display_data",
          "data": {
            "text/plain": [
              "<Figure size 432x288 with 2 Axes>"
            ],
            "image/png": "[encoded data removed]"
          },
          "metadata": {
            "needs_background": "light"
          }
        },
        {
          "output_type": "stream",
          "name": "stdout",
          "text": [
            "----------classification report of RF----------\n",
            "              precision    recall  f1-score   support\n",
            "\n",
            "           0       1.00      1.00      1.00     19950\n",
            "           1       0.43      0.94      0.59        50\n",
            "\n",
            "    accuracy                           1.00     20000\n",
            "   macro avg       0.71      0.97      0.79     20000\n",
            "weighted avg       1.00      1.00      1.00     20000\n",
            "\n"
          ]
        }
      ]
    },
    {
      "cell_type": "markdown",
      "source": [
        "## DNN"
      ],
      "metadata": {
        "id": "qsuGSmUhhdev"
      }
    },
    {
      "cell_type": "code",
      "source": [
        "config_3 = {\n",
        "    'seed' : 123,\n",
        "    'batch_size' : 256,\n",
        "    'n_epoch' : 100,\n",
        "    'lr' : 0.005,\n",
        "    'hidden_layers' : 1,\n",
        "    'hidden_dim' : 32,\n",
        "    'early_stop' : 100,\n",
        "    'test_batch_size' : 256\n",
        "}"
      ],
      "metadata": {
        "id": "n9N09NdPhoqu"
      },
      "execution_count": null,
      "outputs": []
    },
    {
      "cell_type": "code",
      "source": [
        "DNN_train_set_res, DNN_valid_set_res = train_valid_split(train_set_res, 0.9, config_3['seed'])\n",
        "DNN_train_x_res, DNN_train_y_res = split_label(DNN_train_set_res)\n",
        "DNN_valid_x_res, DNN_valid_y_res = split_label(DNN_valid_set_res)\n",
        "y_res.sum(), DNN_train_y_res.sum(), DNN_valid_y_res.sum()"
      ],
      "metadata": {
        "colab": {
          "base_uri": "https://localhost:8080/"
        },
        "id": "mEs_XEgY7DWo",
        "outputId": "28380721-684c-420a-ac2b-a0ac8f936d82"
      },
      "execution_count": null,
      "outputs": [
        {
          "output_type": "execute_result",
          "data": {
            "text/plain": [
              "(79546.0, 71600.0, 7946.0)"
            ]
          },
          "metadata": {},
          "execution_count": 19
        }
      ]
    },
    {
      "cell_type": "code",
      "source": [
        "train_res_dataset = Fraud_Dataset(DNN_train_x_res, DNN_train_y_res)\n",
        "valid_res_dataset = Fraud_Dataset(DNN_valid_x_res, DNN_valid_y_res)\n",
        "test_dataset = Fraud_Dataset(test_x, test_y)\n",
        "\n",
        "train_res_loader = DataLoader(train_res_dataset, batch_size=config_3['batch_size'], shuffle=True, pin_memory=True)\n",
        "valid_res_loader = DataLoader(valid_res_dataset, batch_size=config_3['batch_size'], shuffle=True, pin_memory=True)\n",
        "test_loader = DataLoader(test_dataset, batch_size=config_3['test_batch_size'], shuffle=False, pin_memory=True)"
      ],
      "metadata": {
        "id": "dhD3UKm_hoqu"
      },
      "execution_count": null,
      "outputs": []
    },
    {
      "cell_type": "code",
      "source": [
        "dnn_model_3 = DNN_Model(hidden_layers=config_3['hidden_layers'], hidden_dim=config_3['hidden_dim']).to(device)\n",
        "criterion_3 = nn.BCELoss()\n",
        "optimizer_3 = torch.optim.Adam(dnn_model_3.parameters(), lr=config_3['lr'])\n",
        "\n",
        "if not os.path.isdir('./models'):\n",
        "    os.mkdir('./models')\n",
        "\n",
        "model_path_3 = \"./models/SMOTETomek_dnn_model.ckpt\"\n",
        "\n",
        "dnn_model_3.train()\n",
        "train_loss_list_3, train_acc_list_3 = [], []\n",
        "valid_loss_list_3, valid_acc_list_3 = [], []\n",
        "n_epoch = config_3['n_epoch']\n",
        "best_acc, early_stop_count = 0, 0\n",
        "for epoch in range(n_epoch):\n",
        "    train_loss_3, train_acc_3 = 0, 0\n",
        "    valid_loss_3, valid_acc_3 = 0, 0\n",
        "\n",
        "    for x, y, y_two_class in train_res_loader:\n",
        "        optimizer_3.zero_grad()\n",
        "        x, y_two_class = x.to(device), y_two_class.to(device)\n",
        "        outputs = dnn_model_3(x)\n",
        "        loss = criterion_3(outputs, y_two_class)\n",
        "        loss.backward()\n",
        "        optimizer_3.step()\n",
        "\n",
        "        _, train_pred = torch.max(outputs, 1)\n",
        "        train_loss_3 += loss.detach().item()\n",
        "        train_acc_3 += (train_pred.cpu().detach() == y).sum().item()\n",
        "    train_loss_3 = train_loss_3/len(train_res_loader)\n",
        "    train_acc_3 = train_acc_3/len(train_res_dataset)\n",
        "\n",
        "    with torch.no_grad():\n",
        "        for x, y, y_two_class in valid_res_loader:\n",
        "            x, y_two_class = x.to(device), y_two_class.to(device)\n",
        "            outputs = dnn_model_3(x)\n",
        "            loss = criterion_3(outputs, y_two_class)\n",
        "\n",
        "            _, valid_pred = torch.max(outputs, 1)\n",
        "            valid_loss_3 += loss.detach().item()\n",
        "            valid_acc_3 += (valid_pred.cpu().detach() == y).sum().item()\n",
        "        valid_loss_3 = valid_loss_3/len(valid_res_loader)\n",
        "        valid_acc_3 = valid_acc_3/len(valid_res_dataset)\n",
        "\n",
        "        if valid_acc_3 > best_acc:\n",
        "            best_acc = valid_acc_3\n",
        "            early_stop_count = 0\n",
        "            torch.save(dnn_model_3.state_dict(), model_path_3)\n",
        "            print(f\"Save model at epoch {epoch+1} with valid acc = {valid_acc_3}\")\n",
        "            print(f\"train acc = {train_acc_3}, train_loss = {train_loss_3}\")\n",
        "        else:\n",
        "            early_stop_count += 1\n",
        "\n",
        "        if early_stop_count >= config_3['early_stop']:\n",
        "            print(f'Model is not improving, early stop at epoch {epoch+1}.')\n",
        "            break\n",
        "\n",
        "    if (epoch+1)%10 == 0:\n",
        "        print(f'Epoch [{epoch+1}/{n_epoch}] : Train Acc : {train_acc_3} Loss : {train_loss_3} ; Valid Acc : {valid_acc_3} Loss : {valid_loss_3}')\n",
        "    train_loss_list_3.append(train_loss_3)\n",
        "    train_acc_list_3.append(train_acc_3)\n",
        "    valid_loss_list_3.append(valid_loss_3)\n",
        "    valid_acc_list_3.append(valid_acc_3)"
      ],
      "metadata": {
        "colab": {
          "base_uri": "https://localhost:8080/"
        },
        "outputId": "b5cc6c62-a55f-4d17-b07b-0d4c6f8cba54",
        "id": "rzZJF1w-hoqu"
      },
      "execution_count": null,
      "outputs": [
        {
          "output_type": "stream",
          "name": "stdout",
          "text": [
            "Save model at epoch 1 with valid acc = 0.8884349465744814\n",
            "train acc = 0.8551284379321423, train_loss = 0.31879317753815223\n",
            "Save model at epoch 2 with valid acc = 0.9531741043368951\n",
            "train acc = 0.9392172200416253, train_loss = 0.1719318955471473\n",
            "Save model at epoch 3 with valid acc = 0.9606536769327467\n",
            "train acc = 0.9521168862007794, train_loss = 0.14503471593904707\n",
            "Save model at epoch 4 with valid acc = 0.963607793840352\n",
            "train acc = 0.9567822771018704, train_loss = 0.13155245308631233\n",
            "Save model at epoch 5 with valid acc = 0.9652419861722187\n",
            "train acc = 0.9569149753460631, train_loss = 0.12602245771725262\n",
            "Epoch [10/100] : Train Acc : 0.9664343283373609 Loss : 0.10322057871547129 ; Valid Acc : 0.9646134506599623 Loss : 0.1010859634668108\n",
            "Save model at epoch 11 with valid acc = 0.9729101194217473\n",
            "train acc = 0.9683270243466358, train_loss = 0.09733108832900013\n",
            "Save model at epoch 17 with valid acc = 0.9754242614707731\n",
            "train acc = 0.9700870221117179, train_loss = 0.09304946545578008\n",
            "Epoch [20/100] : Train Acc : 0.9724825746253021 Loss : 0.08641750000450495 ; Valid Acc : 0.9725958516656191 Loss : 0.07590171996326674\n",
            "Save model at epoch 26 with valid acc = 0.9755499685732244\n",
            "train acc = 0.9715117822072606, train_loss = 0.09013641733742718\n",
            "Epoch [30/100] : Train Acc : 0.9722381304912628 Loss : 0.0838271136828033 ; Valid Acc : 0.9633563796354494 Loss : 0.0984133987554482\n",
            "Save model at epoch 34 with valid acc = 0.9761156505342552\n",
            "train acc = 0.9746476512410778, train_loss = 0.07505309697174067\n",
            "Save model at epoch 35 with valid acc = 0.977561282212445\n",
            "train acc = 0.9747733653671551, train_loss = 0.07600055356077584\n",
            "Save model at epoch 37 with valid acc = 0.9786926461345066\n",
            "train acc = 0.9748362224301937, train_loss = 0.0765391620641042\n",
            "Epoch [40/100] : Train Acc : 0.9760374907460435 Loss : 0.07381258604915014 ; Valid Acc : 0.9746700188560654 Loss : 0.07168649388329378\n",
            "Save model at epoch 47 with valid acc = 0.9793211816467631\n",
            "train acc = 0.9761562207540054, train_loss = 0.07353160009785954\n",
            "Epoch [50/100] : Train Acc : 0.9771339972901621 Loss : 0.06925783672569585 ; Valid Acc : 0.977749842866122 Loss : 0.06558871263312915\n",
            "Epoch [60/100] : Train Acc : 0.9772736796524703 Loss : 0.06867783038843689 ; Valid Acc : 0.9788183532369579 Loss : 0.06239579198142839\n",
            "Save model at epoch 61 with valid acc = 0.9793840351979887\n",
            "train acc = 0.9773574890698552, train_loss = 0.06923380888100447\n",
            "Save model at epoch 62 with valid acc = 0.9798240100565682\n",
            "train acc = 0.9773924096604322, train_loss = 0.06998400658568633\n",
            "Save model at epoch 63 with valid acc = 0.9804525455688247\n",
            "train acc = 0.9779511391096646, train_loss = 0.06714778187285576\n",
            "Save model at epoch 67 with valid acc = 0.9805153991200503\n",
            "train acc = 0.9770920925814698, train_loss = 0.06984255095677716\n",
            "Epoch [70/100] : Train Acc : 0.9782025673618192 Loss : 0.06707274429333795 ; Valid Acc : 0.9783155248271528 Loss : 0.056756693071552684\n",
            "Epoch [80/100] : Train Acc : 0.9799835174812477 Loss : 0.06251243900208335 ; Valid Acc : 0.9769327467001886 Loss : 0.0591404741068208\n",
            "Epoch [90/100] : Train Acc : 0.9793200262602841 Loss : 0.06359336677206946 ; Valid Acc : 0.9764927718416091 Loss : 0.06719667730586869\n",
            "Save model at epoch 91 with valid acc = 0.9808925204274042\n",
            "train acc = 0.9794387562682461, train_loss = 0.06415939206739754\n",
            "Save model at epoch 94 with valid acc = 0.9817096165933376\n",
            "train acc = 0.9797111368747469, train_loss = 0.06411090790892818\n",
            "Save model at epoch 99 with valid acc = 0.9818981772470144\n",
            "train acc = 0.9790336774175525, train_loss = 0.06517099610396794\n",
            "Epoch [100/100] : Train Acc : 0.9803955804500566 Loss : 0.061090299300849436 ; Valid Acc : 0.9818353236957889 Loss : 0.05294016868408237\n"
          ]
        }
      ]
    },
    {
      "cell_type": "code",
      "source": [
        "fig, (ax1, ax2) = plt.subplots(1,2, figsize=(12,4))\n",
        "ax1.set_title(\"loss\")\n",
        "ax1.set_xlabel(\"epoch\")\n",
        "ax1.set_ylabel(\"loss\")\n",
        "ax1.plot(train_loss_list_3, label=\"train loss\")\n",
        "ax1.plot(valid_loss_list_3, label=\"valid loss\")\n",
        "ax1.legend()\n",
        "ax2.set_title(\"acc\")\n",
        "ax2.set_xlabel(\"epoch\")\n",
        "ax2.set_ylabel(\"acc\")\n",
        "ax2.plot(train_acc_list_3, label=\"train acc\")\n",
        "ax2.plot(valid_acc_list_3, label=\"valid acc\")\n",
        "ax2.legend()"
      ],
      "metadata": {
        "colab": {
          "base_uri": "https://localhost:8080/",
          "height": 313
        },
        "outputId": "44357035-546d-4dca-b8a6-75f906ff3bd5",
        "id": "e1Dgptnxhoqv"
      },
      "execution_count": null,
      "outputs": [
        {
          "output_type": "execute_result",
          "data": {
            "text/plain": [
              "<matplotlib.legend.Legend at 0x7f4afc211ad0>"
            ]
          },
          "metadata": {},
          "execution_count": 25
        },
        {
          "output_type": "display_data",
          "data": {
            "text/plain": [
              "<Figure size 864x288 with 2 Axes>"
            ],
            "image/png": "[encoded data removed]"
          },
          "metadata": {
            "needs_background": "light"
          }
        }
      ]
    },
    {
      "cell_type": "code",
      "source": [
        "model = DNN_Model(hidden_layers=config_3['hidden_layers'], hidden_dim=config_3['hidden_dim']).to(device)\n",
        "model.load_state_dict(torch.load(model_path_3))\n",
        "model.eval()\n",
        "DNN_test_proba_3, DNN_test_pred_3 = [], []\n",
        "test_loss_3, test_acc_3 = 0, 0\n",
        "with torch.no_grad():\n",
        "    for x, y, y_two_class in tqdm(test_loader):\n",
        "        x, y_two_class = x.to(device), y_two_class.to(device)\n",
        "        outputs = model(x)\n",
        "        loss = criterion_3(outputs, y_two_class)\n",
        "        DNN_test_proba_3 += outputs.cpu().detach().tolist()\n",
        "\n",
        "        _, test_pred = torch.max(outputs, 1)\n",
        "        test_loss_3 += loss.detach().item()\n",
        "        test_acc_3 += (test_pred.cpu().detach() == y).sum().item()\n",
        "        DNN_test_pred_3 += test_pred.tolist()\n",
        "    test_acc_3 = test_acc_3/len(test_dataset)\n",
        "    test_loss_3 = test_loss_3/len(test_loader)"
      ],
      "metadata": {
        "colab": {
          "base_uri": "https://localhost:8080/"
        },
        "outputId": "d05aa202-f433-4aaf-8a9d-508b9989de78",
        "id": "EKVLNWS-hoqv"
      },
      "execution_count": null,
      "outputs": [
        {
          "output_type": "stream",
          "name": "stderr",
          "text": [
            "100%|██████████| 79/79 [00:00<00:00, 359.87it/s]\n"
          ]
        }
      ]
    },
    {
      "cell_type": "code",
      "source": [
        "print(\"train acc : \", round(train_acc_3,4))\n",
        "print(\"test acc : \", round(test_acc_3,4))\n",
        "print(\"train loss : \", round(train_loss_3,5))\n",
        "print(\"test loss : \", round(test_loss_3,5))"
      ],
      "metadata": {
        "colab": {
          "base_uri": "https://localhost:8080/"
        },
        "outputId": "a5c19beb-1e1b-445c-8170-05aff54de4f5",
        "id": "oyqaD13Bhoqv"
      },
      "execution_count": null,
      "outputs": [
        {
          "output_type": "stream",
          "name": "stdout",
          "text": [
            "train acc :  0.9804\n",
            "test acc :  0.9932\n",
            "train loss :  0.06109\n",
            "test loss :  0.04918\n"
          ]
        }
      ]
    },
    {
      "cell_type": "code",
      "source": [
        "plot_confusion_matrix(test_y, DNN_test_pred_3, \"DNN\")\n",
        "print(\"----------classification report of DNN----------\")\n",
        "print(classification_report(test_y, DNN_test_pred_3, labels=[0,1]))"
      ],
      "metadata": {
        "colab": {
          "base_uri": "https://localhost:8080/",
          "height": 551
        },
        "outputId": "6e73c5e3-9718-494f-a890-7c4db58f55f3",
        "id": "5e6dIgCDhoqv"
      },
      "execution_count": null,
      "outputs": [
        {
          "output_type": "stream",
          "name": "stdout",
          "text": [
            "\n",
            "\n"
          ]
        },
        {
          "output_type": "display_data",
          "data": {
            "text/plain": [
              "<Figure size 432x288 with 2 Axes>"
            ],
            "image/png": "[encoded data removed]"
          },
          "metadata": {
            "needs_background": "light"
          }
        },
        {
          "output_type": "stream",
          "name": "stdout",
          "text": [
            "----------classification report of DNN----------\n",
            "              precision    recall  f1-score   support\n",
            "\n",
            "           0       1.00      0.99      1.00     19950\n",
            "           1       0.26      0.94      0.41        50\n",
            "\n",
            "    accuracy                           0.99     20000\n",
            "   macro avg       0.63      0.97      0.70     20000\n",
            "weighted avg       1.00      0.99      1.00     20000\n",
            "\n"
          ]
        }
      ]
    }
  ],
  "metadata": {
    "kernelspec": {
      "display_name": "Python 3.7.11 ('base')",
      "language": "python",
      "name": "python3"
    },
    "language_info": {
      "codemirror_mode": {
        "name": "ipython",
        "version": 3
      },
      "file_extension": ".py",
      "mimetype": "text/x-python",
      "name": "python",
      "nbconvert_exporter": "python",
      "pygments_lexer": "ipython3",
      "version": "3.7.11"
    },
    "orig_nbformat": 4,
    "vscode": {
      "interpreter": {
        "hash": "be79a673a876c1342e69ef5fd670e776ba5b5dd2b99cb3a62f1990c400599536"
      }
    },
    "colab": {
      "provenance": [],
      "collapsed_sections": [
        "e6gSHW_Cdvui",
        "adz-cpppd0LH",
        "WXP_vKKOd4vM",
        "rK16WAM_SIAr"
      ],
      "toc_visible": true
    }
  },
  "nbformat": 4,
  "nbformat_minor": 0
}